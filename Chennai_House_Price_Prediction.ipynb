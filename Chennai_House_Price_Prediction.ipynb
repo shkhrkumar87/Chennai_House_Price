{
 "cells": [
  {
   "cell_type": "code",
   "execution_count": 1,
   "id": "ee264117",
   "metadata": {
    "scrolled": true
   },
   "outputs": [],
   "source": [
    "import pandas as pd\n",
    "import numpy as np\n",
    "import matplotlib.pyplot as plt\n",
    "import seaborn as sns\n",
    "from sklearn.preprocessing import OneHotEncoder\n",
    "from sklearn.preprocessing import LabelEncoder\n",
    "from sklearn.model_selection import train_test_split\n",
    "from sklearn.preprocessing import StandardScaler\n",
    "from sklearn.model_selection import cross_val_score\n",
    "from sklearn.preprocessing import MinMaxScaler\n",
    "from sklearn.linear_model import LinearRegression\n",
    "from sklearn.metrics import mean_squared_error \n",
    "from sklearn.metrics import r2_score\n",
    "from sklearn.datasets import make_regression"
   ]
  },
  {
   "cell_type": "code",
   "execution_count": 2,
   "id": "315988dc",
   "metadata": {},
   "outputs": [],
   "source": [
    "data=pd.read_csv('train-chennai-sale.csv')"
   ]
  },
  {
   "cell_type": "code",
   "execution_count": 3,
   "id": "06c04cf7",
   "metadata": {},
   "outputs": [
    {
     "data": {
      "text/html": [
       "<div>\n",
       "<style scoped>\n",
       "    .dataframe tbody tr th:only-of-type {\n",
       "        vertical-align: middle;\n",
       "    }\n",
       "\n",
       "    .dataframe tbody tr th {\n",
       "        vertical-align: top;\n",
       "    }\n",
       "\n",
       "    .dataframe thead th {\n",
       "        text-align: right;\n",
       "    }\n",
       "</style>\n",
       "<table border=\"1\" class=\"dataframe\">\n",
       "  <thead>\n",
       "    <tr style=\"text-align: right;\">\n",
       "      <th></th>\n",
       "      <th>PRT_ID</th>\n",
       "      <th>AREA</th>\n",
       "      <th>INT_SQFT</th>\n",
       "      <th>DATE_SALE</th>\n",
       "      <th>DIST_MAINROAD</th>\n",
       "      <th>N_BEDROOM</th>\n",
       "      <th>N_BATHROOM</th>\n",
       "      <th>N_ROOM</th>\n",
       "      <th>SALE_COND</th>\n",
       "      <th>PARK_FACIL</th>\n",
       "      <th>...</th>\n",
       "      <th>UTILITY_AVAIL</th>\n",
       "      <th>STREET</th>\n",
       "      <th>MZZONE</th>\n",
       "      <th>QS_ROOMS</th>\n",
       "      <th>QS_BATHROOM</th>\n",
       "      <th>QS_BEDROOM</th>\n",
       "      <th>QS_OVERALL</th>\n",
       "      <th>REG_FEE</th>\n",
       "      <th>COMMIS</th>\n",
       "      <th>SALES_PRICE</th>\n",
       "    </tr>\n",
       "  </thead>\n",
       "  <tbody>\n",
       "    <tr>\n",
       "      <th>0</th>\n",
       "      <td>P03210</td>\n",
       "      <td>Karapakkam</td>\n",
       "      <td>1004</td>\n",
       "      <td>04-05-2011</td>\n",
       "      <td>131</td>\n",
       "      <td>1.0</td>\n",
       "      <td>1.0</td>\n",
       "      <td>3</td>\n",
       "      <td>AbNormal</td>\n",
       "      <td>Yes</td>\n",
       "      <td>...</td>\n",
       "      <td>AllPub</td>\n",
       "      <td>Paved</td>\n",
       "      <td>A</td>\n",
       "      <td>4.0</td>\n",
       "      <td>3.9</td>\n",
       "      <td>4.9</td>\n",
       "      <td>4.330</td>\n",
       "      <td>380000</td>\n",
       "      <td>144400</td>\n",
       "      <td>7600000</td>\n",
       "    </tr>\n",
       "    <tr>\n",
       "      <th>1</th>\n",
       "      <td>P09411</td>\n",
       "      <td>Anna Nagar</td>\n",
       "      <td>1986</td>\n",
       "      <td>19-12-2006</td>\n",
       "      <td>26</td>\n",
       "      <td>2.0</td>\n",
       "      <td>1.0</td>\n",
       "      <td>5</td>\n",
       "      <td>AbNormal</td>\n",
       "      <td>No</td>\n",
       "      <td>...</td>\n",
       "      <td>AllPub</td>\n",
       "      <td>Gravel</td>\n",
       "      <td>RH</td>\n",
       "      <td>4.9</td>\n",
       "      <td>4.2</td>\n",
       "      <td>2.5</td>\n",
       "      <td>3.765</td>\n",
       "      <td>760122</td>\n",
       "      <td>304049</td>\n",
       "      <td>21717770</td>\n",
       "    </tr>\n",
       "  </tbody>\n",
       "</table>\n",
       "<p>2 rows × 22 columns</p>\n",
       "</div>"
      ],
      "text/plain": [
       "   PRT_ID        AREA  INT_SQFT   DATE_SALE  DIST_MAINROAD  N_BEDROOM  \\\n",
       "0  P03210  Karapakkam      1004  04-05-2011            131        1.0   \n",
       "1  P09411  Anna Nagar      1986  19-12-2006             26        2.0   \n",
       "\n",
       "   N_BATHROOM  N_ROOM SALE_COND PARK_FACIL  ... UTILITY_AVAIL  STREET MZZONE  \\\n",
       "0         1.0       3  AbNormal        Yes  ...        AllPub   Paved      A   \n",
       "1         1.0       5  AbNormal         No  ...        AllPub  Gravel     RH   \n",
       "\n",
       "  QS_ROOMS QS_BATHROOM  QS_BEDROOM  QS_OVERALL  REG_FEE  COMMIS  SALES_PRICE  \n",
       "0      4.0         3.9         4.9       4.330   380000  144400      7600000  \n",
       "1      4.9         4.2         2.5       3.765   760122  304049     21717770  \n",
       "\n",
       "[2 rows x 22 columns]"
      ]
     },
     "execution_count": 3,
     "metadata": {},
     "output_type": "execute_result"
    }
   ],
   "source": [
    "data.head(2)"
   ]
  },
  {
   "cell_type": "code",
   "execution_count": 4,
   "id": "a69b75f7",
   "metadata": {},
   "outputs": [
    {
     "data": {
      "text/plain": [
       "0       15-05-1967\n",
       "1       22-12-1995\n",
       "2       09-02-1992\n",
       "3       18-03-1988\n",
       "4       13-10-1979\n",
       "           ...    \n",
       "7104    15-01-1962\n",
       "7105    11-04-1995\n",
       "7106    01-09-1978\n",
       "7107    11-08-1977\n",
       "7108    24-07-1961\n",
       "Name: DATE_BUILD, Length: 7109, dtype: object"
      ]
     },
     "execution_count": 4,
     "metadata": {},
     "output_type": "execute_result"
    }
   ],
   "source": [
    "data['DATE_BUILD']\n",
    "#need to remove this "
   ]
  },
  {
   "cell_type": "code",
   "execution_count": 5,
   "id": "4a403095",
   "metadata": {},
   "outputs": [
    {
     "data": {
      "text/html": [
       "<div>\n",
       "<style scoped>\n",
       "    .dataframe tbody tr th:only-of-type {\n",
       "        vertical-align: middle;\n",
       "    }\n",
       "\n",
       "    .dataframe tbody tr th {\n",
       "        vertical-align: top;\n",
       "    }\n",
       "\n",
       "    .dataframe thead th {\n",
       "        text-align: right;\n",
       "    }\n",
       "</style>\n",
       "<table border=\"1\" class=\"dataframe\">\n",
       "  <thead>\n",
       "    <tr style=\"text-align: right;\">\n",
       "      <th></th>\n",
       "      <th>PRT_ID</th>\n",
       "      <th>AREA</th>\n",
       "      <th>INT_SQFT</th>\n",
       "      <th>DATE_SALE</th>\n",
       "      <th>DIST_MAINROAD</th>\n",
       "      <th>N_BEDROOM</th>\n",
       "      <th>N_BATHROOM</th>\n",
       "      <th>N_ROOM</th>\n",
       "      <th>SALE_COND</th>\n",
       "      <th>PARK_FACIL</th>\n",
       "      <th>...</th>\n",
       "      <th>UTILITY_AVAIL</th>\n",
       "      <th>STREET</th>\n",
       "      <th>MZZONE</th>\n",
       "      <th>QS_ROOMS</th>\n",
       "      <th>QS_BATHROOM</th>\n",
       "      <th>QS_BEDROOM</th>\n",
       "      <th>QS_OVERALL</th>\n",
       "      <th>REG_FEE</th>\n",
       "      <th>COMMIS</th>\n",
       "      <th>SALES_PRICE</th>\n",
       "    </tr>\n",
       "  </thead>\n",
       "  <tbody>\n",
       "    <tr>\n",
       "      <th>0</th>\n",
       "      <td>P03210</td>\n",
       "      <td>Karapakkam</td>\n",
       "      <td>1004</td>\n",
       "      <td>04-05-2011</td>\n",
       "      <td>131</td>\n",
       "      <td>1.0</td>\n",
       "      <td>1.0</td>\n",
       "      <td>3</td>\n",
       "      <td>AbNormal</td>\n",
       "      <td>Yes</td>\n",
       "      <td>...</td>\n",
       "      <td>AllPub</td>\n",
       "      <td>Paved</td>\n",
       "      <td>A</td>\n",
       "      <td>4.0</td>\n",
       "      <td>3.9</td>\n",
       "      <td>4.9</td>\n",
       "      <td>4.330</td>\n",
       "      <td>380000</td>\n",
       "      <td>144400</td>\n",
       "      <td>7600000</td>\n",
       "    </tr>\n",
       "    <tr>\n",
       "      <th>1</th>\n",
       "      <td>P09411</td>\n",
       "      <td>Anna Nagar</td>\n",
       "      <td>1986</td>\n",
       "      <td>19-12-2006</td>\n",
       "      <td>26</td>\n",
       "      <td>2.0</td>\n",
       "      <td>1.0</td>\n",
       "      <td>5</td>\n",
       "      <td>AbNormal</td>\n",
       "      <td>No</td>\n",
       "      <td>...</td>\n",
       "      <td>AllPub</td>\n",
       "      <td>Gravel</td>\n",
       "      <td>RH</td>\n",
       "      <td>4.9</td>\n",
       "      <td>4.2</td>\n",
       "      <td>2.5</td>\n",
       "      <td>3.765</td>\n",
       "      <td>760122</td>\n",
       "      <td>304049</td>\n",
       "      <td>21717770</td>\n",
       "    </tr>\n",
       "  </tbody>\n",
       "</table>\n",
       "<p>2 rows × 22 columns</p>\n",
       "</div>"
      ],
      "text/plain": [
       "   PRT_ID        AREA  INT_SQFT   DATE_SALE  DIST_MAINROAD  N_BEDROOM  \\\n",
       "0  P03210  Karapakkam      1004  04-05-2011            131        1.0   \n",
       "1  P09411  Anna Nagar      1986  19-12-2006             26        2.0   \n",
       "\n",
       "   N_BATHROOM  N_ROOM SALE_COND PARK_FACIL  ... UTILITY_AVAIL  STREET MZZONE  \\\n",
       "0         1.0       3  AbNormal        Yes  ...        AllPub   Paved      A   \n",
       "1         1.0       5  AbNormal         No  ...        AllPub  Gravel     RH   \n",
       "\n",
       "  QS_ROOMS QS_BATHROOM  QS_BEDROOM  QS_OVERALL  REG_FEE  COMMIS  SALES_PRICE  \n",
       "0      4.0         3.9         4.9       4.330   380000  144400      7600000  \n",
       "1      4.9         4.2         2.5       3.765   760122  304049     21717770  \n",
       "\n",
       "[2 rows x 22 columns]"
      ]
     },
     "execution_count": 5,
     "metadata": {},
     "output_type": "execute_result"
    }
   ],
   "source": [
    "data.head(2)"
   ]
  },
  {
   "cell_type": "code",
   "execution_count": 6,
   "id": "eb9502be",
   "metadata": {},
   "outputs": [
    {
     "data": {
      "text/plain": [
       "(7109, 22)"
      ]
     },
     "execution_count": 6,
     "metadata": {},
     "output_type": "execute_result"
    }
   ],
   "source": [
    "data.shape"
   ]
  },
  {
   "cell_type": "code",
   "execution_count": 7,
   "id": "5341035e",
   "metadata": {},
   "outputs": [
    {
     "name": "stdout",
     "output_type": "stream",
     "text": [
      "<class 'pandas.core.frame.DataFrame'>\n",
      "RangeIndex: 7109 entries, 0 to 7108\n",
      "Data columns (total 22 columns):\n",
      " #   Column         Non-Null Count  Dtype  \n",
      "---  ------         --------------  -----  \n",
      " 0   PRT_ID         7109 non-null   object \n",
      " 1   AREA           7109 non-null   object \n",
      " 2   INT_SQFT       7109 non-null   int64  \n",
      " 3   DATE_SALE      7109 non-null   object \n",
      " 4   DIST_MAINROAD  7109 non-null   int64  \n",
      " 5   N_BEDROOM      7108 non-null   float64\n",
      " 6   N_BATHROOM     7104 non-null   float64\n",
      " 7   N_ROOM         7109 non-null   int64  \n",
      " 8   SALE_COND      7109 non-null   object \n",
      " 9   PARK_FACIL     7109 non-null   object \n",
      " 10  DATE_BUILD     7109 non-null   object \n",
      " 11  BUILDTYPE      7109 non-null   object \n",
      " 12  UTILITY_AVAIL  7109 non-null   object \n",
      " 13  STREET         7109 non-null   object \n",
      " 14  MZZONE         7109 non-null   object \n",
      " 15  QS_ROOMS       7109 non-null   float64\n",
      " 16  QS_BATHROOM    7109 non-null   float64\n",
      " 17  QS_BEDROOM     7109 non-null   float64\n",
      " 18  QS_OVERALL     7061 non-null   float64\n",
      " 19  REG_FEE        7109 non-null   int64  \n",
      " 20  COMMIS         7109 non-null   int64  \n",
      " 21  SALES_PRICE    7109 non-null   int64  \n",
      "dtypes: float64(6), int64(6), object(10)\n",
      "memory usage: 1.2+ MB\n"
     ]
    }
   ],
   "source": [
    "data.info()"
   ]
  },
  {
   "cell_type": "code",
   "execution_count": null,
   "id": "74d9c92f",
   "metadata": {},
   "outputs": [],
   "source": []
  },
  {
   "cell_type": "code",
   "execution_count": 8,
   "id": "2cbbe26f",
   "metadata": {},
   "outputs": [
    {
     "data": {
      "text/plain": [
       "PRT_ID            0\n",
       "AREA              0\n",
       "INT_SQFT          0\n",
       "DATE_SALE         0\n",
       "DIST_MAINROAD     0\n",
       "N_BEDROOM         1\n",
       "N_BATHROOM        5\n",
       "N_ROOM            0\n",
       "SALE_COND         0\n",
       "PARK_FACIL        0\n",
       "DATE_BUILD        0\n",
       "BUILDTYPE         0\n",
       "UTILITY_AVAIL     0\n",
       "STREET            0\n",
       "MZZONE            0\n",
       "QS_ROOMS          0\n",
       "QS_BATHROOM       0\n",
       "QS_BEDROOM        0\n",
       "QS_OVERALL       48\n",
       "REG_FEE           0\n",
       "COMMIS            0\n",
       "SALES_PRICE       0\n",
       "dtype: int64"
      ]
     },
     "execution_count": 8,
     "metadata": {},
     "output_type": "execute_result"
    }
   ],
   "source": [
    "#checking the the null value\n",
    "data.isnull().sum()"
   ]
  },
  {
   "cell_type": "code",
   "execution_count": 9,
   "id": "de46cfd8",
   "metadata": {},
   "outputs": [
    {
     "data": {
      "text/plain": [
       "0       1.0\n",
       "1       2.0\n",
       "2       1.0\n",
       "3       3.0\n",
       "4       1.0\n",
       "       ... \n",
       "7104    1.0\n",
       "7105    3.0\n",
       "7106    2.0\n",
       "7107    1.0\n",
       "7108    3.0\n",
       "Name: N_BEDROOM, Length: 7109, dtype: float64"
      ]
     },
     "execution_count": 9,
     "metadata": {},
     "output_type": "execute_result"
    }
   ],
   "source": [
    "data['N_BEDROOM']"
   ]
  },
  {
   "cell_type": "code",
   "execution_count": 10,
   "id": "51ea38ce",
   "metadata": {},
   "outputs": [
    {
     "data": {
      "text/plain": [
       "PRT_ID            0\n",
       "AREA              0\n",
       "INT_SQFT          0\n",
       "DATE_SALE         0\n",
       "DIST_MAINROAD     0\n",
       "N_BEDROOM         1\n",
       "N_BATHROOM        5\n",
       "N_ROOM            0\n",
       "SALE_COND         0\n",
       "PARK_FACIL        0\n",
       "DATE_BUILD        0\n",
       "BUILDTYPE         0\n",
       "UTILITY_AVAIL     0\n",
       "STREET            0\n",
       "MZZONE            0\n",
       "QS_ROOMS          0\n",
       "QS_BATHROOM       0\n",
       "QS_BEDROOM        0\n",
       "QS_OVERALL       48\n",
       "REG_FEE           0\n",
       "COMMIS            0\n",
       "SALES_PRICE       0\n",
       "dtype: int64"
      ]
     },
     "execution_count": 10,
     "metadata": {},
     "output_type": "execute_result"
    }
   ],
   "source": [
    "data.isnull().sum()"
   ]
  },
  {
   "cell_type": "code",
   "execution_count": 11,
   "id": "c3be19ff",
   "metadata": {},
   "outputs": [
    {
     "data": {
      "text/html": [
       "<div>\n",
       "<style scoped>\n",
       "    .dataframe tbody tr th:only-of-type {\n",
       "        vertical-align: middle;\n",
       "    }\n",
       "\n",
       "    .dataframe tbody tr th {\n",
       "        vertical-align: top;\n",
       "    }\n",
       "\n",
       "    .dataframe thead th {\n",
       "        text-align: right;\n",
       "    }\n",
       "</style>\n",
       "<table border=\"1\" class=\"dataframe\">\n",
       "  <thead>\n",
       "    <tr style=\"text-align: right;\">\n",
       "      <th></th>\n",
       "      <th>INT_SQFT</th>\n",
       "      <th>DIST_MAINROAD</th>\n",
       "      <th>N_BEDROOM</th>\n",
       "      <th>N_BATHROOM</th>\n",
       "      <th>N_ROOM</th>\n",
       "      <th>QS_ROOMS</th>\n",
       "      <th>QS_BATHROOM</th>\n",
       "      <th>QS_BEDROOM</th>\n",
       "      <th>QS_OVERALL</th>\n",
       "      <th>REG_FEE</th>\n",
       "      <th>COMMIS</th>\n",
       "      <th>SALES_PRICE</th>\n",
       "    </tr>\n",
       "  </thead>\n",
       "  <tbody>\n",
       "    <tr>\n",
       "      <th>count</th>\n",
       "      <td>7109.000000</td>\n",
       "      <td>7109.000000</td>\n",
       "      <td>7108.000000</td>\n",
       "      <td>7104.000000</td>\n",
       "      <td>7109.000000</td>\n",
       "      <td>7109.000000</td>\n",
       "      <td>7109.000000</td>\n",
       "      <td>7109.000000</td>\n",
       "      <td>7061.000000</td>\n",
       "      <td>7109.000000</td>\n",
       "      <td>7109.000000</td>\n",
       "      <td>7.109000e+03</td>\n",
       "    </tr>\n",
       "    <tr>\n",
       "      <th>mean</th>\n",
       "      <td>1382.073006</td>\n",
       "      <td>99.603179</td>\n",
       "      <td>1.637029</td>\n",
       "      <td>1.213260</td>\n",
       "      <td>3.688704</td>\n",
       "      <td>3.517471</td>\n",
       "      <td>3.507244</td>\n",
       "      <td>3.485300</td>\n",
       "      <td>3.503254</td>\n",
       "      <td>376938.330708</td>\n",
       "      <td>141005.726544</td>\n",
       "      <td>1.089491e+07</td>\n",
       "    </tr>\n",
       "    <tr>\n",
       "      <th>std</th>\n",
       "      <td>457.410902</td>\n",
       "      <td>57.403110</td>\n",
       "      <td>0.802902</td>\n",
       "      <td>0.409639</td>\n",
       "      <td>1.019099</td>\n",
       "      <td>0.891972</td>\n",
       "      <td>0.897834</td>\n",
       "      <td>0.887266</td>\n",
       "      <td>0.527223</td>\n",
       "      <td>143070.662010</td>\n",
       "      <td>78768.093718</td>\n",
       "      <td>3.768603e+06</td>\n",
       "    </tr>\n",
       "    <tr>\n",
       "      <th>min</th>\n",
       "      <td>500.000000</td>\n",
       "      <td>0.000000</td>\n",
       "      <td>1.000000</td>\n",
       "      <td>1.000000</td>\n",
       "      <td>2.000000</td>\n",
       "      <td>2.000000</td>\n",
       "      <td>2.000000</td>\n",
       "      <td>2.000000</td>\n",
       "      <td>2.000000</td>\n",
       "      <td>71177.000000</td>\n",
       "      <td>5055.000000</td>\n",
       "      <td>2.156875e+06</td>\n",
       "    </tr>\n",
       "    <tr>\n",
       "      <th>25%</th>\n",
       "      <td>993.000000</td>\n",
       "      <td>50.000000</td>\n",
       "      <td>1.000000</td>\n",
       "      <td>1.000000</td>\n",
       "      <td>3.000000</td>\n",
       "      <td>2.700000</td>\n",
       "      <td>2.700000</td>\n",
       "      <td>2.700000</td>\n",
       "      <td>3.130000</td>\n",
       "      <td>272406.000000</td>\n",
       "      <td>84219.000000</td>\n",
       "      <td>8.272100e+06</td>\n",
       "    </tr>\n",
       "    <tr>\n",
       "      <th>50%</th>\n",
       "      <td>1373.000000</td>\n",
       "      <td>99.000000</td>\n",
       "      <td>1.000000</td>\n",
       "      <td>1.000000</td>\n",
       "      <td>4.000000</td>\n",
       "      <td>3.500000</td>\n",
       "      <td>3.500000</td>\n",
       "      <td>3.500000</td>\n",
       "      <td>3.500000</td>\n",
       "      <td>349486.000000</td>\n",
       "      <td>127628.000000</td>\n",
       "      <td>1.033505e+07</td>\n",
       "    </tr>\n",
       "    <tr>\n",
       "      <th>75%</th>\n",
       "      <td>1744.000000</td>\n",
       "      <td>148.000000</td>\n",
       "      <td>2.000000</td>\n",
       "      <td>1.000000</td>\n",
       "      <td>4.000000</td>\n",
       "      <td>4.300000</td>\n",
       "      <td>4.300000</td>\n",
       "      <td>4.300000</td>\n",
       "      <td>3.890000</td>\n",
       "      <td>451562.000000</td>\n",
       "      <td>184506.000000</td>\n",
       "      <td>1.299390e+07</td>\n",
       "    </tr>\n",
       "    <tr>\n",
       "      <th>max</th>\n",
       "      <td>2500.000000</td>\n",
       "      <td>200.000000</td>\n",
       "      <td>4.000000</td>\n",
       "      <td>2.000000</td>\n",
       "      <td>6.000000</td>\n",
       "      <td>5.000000</td>\n",
       "      <td>5.000000</td>\n",
       "      <td>5.000000</td>\n",
       "      <td>4.970000</td>\n",
       "      <td>983922.000000</td>\n",
       "      <td>495405.000000</td>\n",
       "      <td>2.366734e+07</td>\n",
       "    </tr>\n",
       "  </tbody>\n",
       "</table>\n",
       "</div>"
      ],
      "text/plain": [
       "          INT_SQFT  DIST_MAINROAD    N_BEDROOM   N_BATHROOM       N_ROOM  \\\n",
       "count  7109.000000    7109.000000  7108.000000  7104.000000  7109.000000   \n",
       "mean   1382.073006      99.603179     1.637029     1.213260     3.688704   \n",
       "std     457.410902      57.403110     0.802902     0.409639     1.019099   \n",
       "min     500.000000       0.000000     1.000000     1.000000     2.000000   \n",
       "25%     993.000000      50.000000     1.000000     1.000000     3.000000   \n",
       "50%    1373.000000      99.000000     1.000000     1.000000     4.000000   \n",
       "75%    1744.000000     148.000000     2.000000     1.000000     4.000000   \n",
       "max    2500.000000     200.000000     4.000000     2.000000     6.000000   \n",
       "\n",
       "          QS_ROOMS  QS_BATHROOM   QS_BEDROOM   QS_OVERALL        REG_FEE  \\\n",
       "count  7109.000000  7109.000000  7109.000000  7061.000000    7109.000000   \n",
       "mean      3.517471     3.507244     3.485300     3.503254  376938.330708   \n",
       "std       0.891972     0.897834     0.887266     0.527223  143070.662010   \n",
       "min       2.000000     2.000000     2.000000     2.000000   71177.000000   \n",
       "25%       2.700000     2.700000     2.700000     3.130000  272406.000000   \n",
       "50%       3.500000     3.500000     3.500000     3.500000  349486.000000   \n",
       "75%       4.300000     4.300000     4.300000     3.890000  451562.000000   \n",
       "max       5.000000     5.000000     5.000000     4.970000  983922.000000   \n",
       "\n",
       "              COMMIS   SALES_PRICE  \n",
       "count    7109.000000  7.109000e+03  \n",
       "mean   141005.726544  1.089491e+07  \n",
       "std     78768.093718  3.768603e+06  \n",
       "min      5055.000000  2.156875e+06  \n",
       "25%     84219.000000  8.272100e+06  \n",
       "50%    127628.000000  1.033505e+07  \n",
       "75%    184506.000000  1.299390e+07  \n",
       "max    495405.000000  2.366734e+07  "
      ]
     },
     "execution_count": 11,
     "metadata": {},
     "output_type": "execute_result"
    }
   ],
   "source": [
    "data.describe()"
   ]
  },
  {
   "cell_type": "markdown",
   "id": "6f71bcb6",
   "metadata": {},
   "source": [
    "# Handling Missing values"
   ]
  },
  {
   "cell_type": "code",
   "execution_count": 12,
   "id": "c08cdb48",
   "metadata": {},
   "outputs": [],
   "source": [
    "data['N_BEDROOM']=data['N_BEDROOM'].fillna(data['N_BEDROOM'].mode()[0])\n",
    "data['N_BATHROOM']=data['N_BATHROOM'].fillna(data['N_BATHROOM'].mode()[0])\n",
    "data['QS_OVERALL']=data['QS_OVERALL'].fillna(data['QS_OVERALL'].median())"
   ]
  },
  {
   "cell_type": "code",
   "execution_count": 13,
   "id": "6e14d884",
   "metadata": {},
   "outputs": [
    {
     "data": {
      "text/plain": [
       "PRT_ID           0\n",
       "AREA             0\n",
       "INT_SQFT         0\n",
       "DATE_SALE        0\n",
       "DIST_MAINROAD    0\n",
       "N_BEDROOM        0\n",
       "N_BATHROOM       0\n",
       "N_ROOM           0\n",
       "SALE_COND        0\n",
       "PARK_FACIL       0\n",
       "DATE_BUILD       0\n",
       "BUILDTYPE        0\n",
       "UTILITY_AVAIL    0\n",
       "STREET           0\n",
       "MZZONE           0\n",
       "QS_ROOMS         0\n",
       "QS_BATHROOM      0\n",
       "QS_BEDROOM       0\n",
       "QS_OVERALL       0\n",
       "REG_FEE          0\n",
       "COMMIS           0\n",
       "SALES_PRICE      0\n",
       "dtype: int64"
      ]
     },
     "execution_count": 13,
     "metadata": {},
     "output_type": "execute_result"
    }
   ],
   "source": [
    "data.isnull().sum()"
   ]
  },
  {
   "cell_type": "markdown",
   "id": "0c1287e6",
   "metadata": {},
   "source": [
    "# Checking null values"
   ]
  },
  {
   "cell_type": "code",
   "execution_count": 14,
   "id": "62d04ee1",
   "metadata": {},
   "outputs": [
    {
     "data": {
      "text/plain": [
       "(7109, 22)"
      ]
     },
     "execution_count": 14,
     "metadata": {},
     "output_type": "execute_result"
    }
   ],
   "source": [
    "data.drop_duplicates().shape"
   ]
  },
  {
   "cell_type": "code",
   "execution_count": 15,
   "id": "9833819e",
   "metadata": {},
   "outputs": [
    {
     "data": {
      "text/plain": [
       "array(['P03210', 'P09411', 'P01812', ..., 'P09594', 'P06508', 'P09794'],\n",
       "      dtype=object)"
      ]
     },
     "execution_count": 15,
     "metadata": {},
     "output_type": "execute_result"
    }
   ],
   "source": [
    "#We are checking for spelling mistakes\n",
    "#data['PRT_ID'].duplicated().sum()\n",
    "data['PRT_ID'].unique()"
   ]
  },
  {
   "cell_type": "code",
   "execution_count": 16,
   "id": "9f6e0630",
   "metadata": {},
   "outputs": [
    {
     "data": {
      "text/html": [
       "<div>\n",
       "<style scoped>\n",
       "    .dataframe tbody tr th:only-of-type {\n",
       "        vertical-align: middle;\n",
       "    }\n",
       "\n",
       "    .dataframe tbody tr th {\n",
       "        vertical-align: top;\n",
       "    }\n",
       "\n",
       "    .dataframe thead th {\n",
       "        text-align: right;\n",
       "    }\n",
       "</style>\n",
       "<table border=\"1\" class=\"dataframe\">\n",
       "  <thead>\n",
       "    <tr style=\"text-align: right;\">\n",
       "      <th></th>\n",
       "      <th>PRT_ID</th>\n",
       "      <th>AREA</th>\n",
       "      <th>INT_SQFT</th>\n",
       "      <th>DATE_SALE</th>\n",
       "      <th>DIST_MAINROAD</th>\n",
       "      <th>N_BEDROOM</th>\n",
       "      <th>N_BATHROOM</th>\n",
       "      <th>N_ROOM</th>\n",
       "      <th>SALE_COND</th>\n",
       "      <th>PARK_FACIL</th>\n",
       "      <th>...</th>\n",
       "      <th>UTILITY_AVAIL</th>\n",
       "      <th>STREET</th>\n",
       "      <th>MZZONE</th>\n",
       "      <th>QS_ROOMS</th>\n",
       "      <th>QS_BATHROOM</th>\n",
       "      <th>QS_BEDROOM</th>\n",
       "      <th>QS_OVERALL</th>\n",
       "      <th>REG_FEE</th>\n",
       "      <th>COMMIS</th>\n",
       "      <th>SALES_PRICE</th>\n",
       "    </tr>\n",
       "  </thead>\n",
       "  <tbody>\n",
       "    <tr>\n",
       "      <th>0</th>\n",
       "      <td>P03210</td>\n",
       "      <td>Karapakkam</td>\n",
       "      <td>1004</td>\n",
       "      <td>04-05-2011</td>\n",
       "      <td>131</td>\n",
       "      <td>1.0</td>\n",
       "      <td>1.0</td>\n",
       "      <td>3</td>\n",
       "      <td>AbNormal</td>\n",
       "      <td>Yes</td>\n",
       "      <td>...</td>\n",
       "      <td>AllPub</td>\n",
       "      <td>Paved</td>\n",
       "      <td>A</td>\n",
       "      <td>4.0</td>\n",
       "      <td>3.9</td>\n",
       "      <td>4.9</td>\n",
       "      <td>4.330</td>\n",
       "      <td>380000</td>\n",
       "      <td>144400</td>\n",
       "      <td>7600000</td>\n",
       "    </tr>\n",
       "    <tr>\n",
       "      <th>1</th>\n",
       "      <td>P09411</td>\n",
       "      <td>Anna Nagar</td>\n",
       "      <td>1986</td>\n",
       "      <td>19-12-2006</td>\n",
       "      <td>26</td>\n",
       "      <td>2.0</td>\n",
       "      <td>1.0</td>\n",
       "      <td>5</td>\n",
       "      <td>AbNormal</td>\n",
       "      <td>No</td>\n",
       "      <td>...</td>\n",
       "      <td>AllPub</td>\n",
       "      <td>Gravel</td>\n",
       "      <td>RH</td>\n",
       "      <td>4.9</td>\n",
       "      <td>4.2</td>\n",
       "      <td>2.5</td>\n",
       "      <td>3.765</td>\n",
       "      <td>760122</td>\n",
       "      <td>304049</td>\n",
       "      <td>21717770</td>\n",
       "    </tr>\n",
       "    <tr>\n",
       "      <th>2</th>\n",
       "      <td>P01812</td>\n",
       "      <td>Adyar</td>\n",
       "      <td>909</td>\n",
       "      <td>04-02-2012</td>\n",
       "      <td>70</td>\n",
       "      <td>1.0</td>\n",
       "      <td>1.0</td>\n",
       "      <td>3</td>\n",
       "      <td>AbNormal</td>\n",
       "      <td>Yes</td>\n",
       "      <td>...</td>\n",
       "      <td>ELO</td>\n",
       "      <td>Gravel</td>\n",
       "      <td>RL</td>\n",
       "      <td>4.1</td>\n",
       "      <td>3.8</td>\n",
       "      <td>2.2</td>\n",
       "      <td>3.090</td>\n",
       "      <td>421094</td>\n",
       "      <td>92114</td>\n",
       "      <td>13159200</td>\n",
       "    </tr>\n",
       "  </tbody>\n",
       "</table>\n",
       "<p>3 rows × 22 columns</p>\n",
       "</div>"
      ],
      "text/plain": [
       "   PRT_ID        AREA  INT_SQFT   DATE_SALE  DIST_MAINROAD  N_BEDROOM  \\\n",
       "0  P03210  Karapakkam      1004  04-05-2011            131        1.0   \n",
       "1  P09411  Anna Nagar      1986  19-12-2006             26        2.0   \n",
       "2  P01812       Adyar       909  04-02-2012             70        1.0   \n",
       "\n",
       "   N_BATHROOM  N_ROOM SALE_COND PARK_FACIL  ... UTILITY_AVAIL  STREET MZZONE  \\\n",
       "0         1.0       3  AbNormal        Yes  ...        AllPub   Paved      A   \n",
       "1         1.0       5  AbNormal         No  ...        AllPub  Gravel     RH   \n",
       "2         1.0       3  AbNormal        Yes  ...           ELO  Gravel     RL   \n",
       "\n",
       "  QS_ROOMS QS_BATHROOM  QS_BEDROOM  QS_OVERALL  REG_FEE  COMMIS  SALES_PRICE  \n",
       "0      4.0         3.9         4.9       4.330   380000  144400      7600000  \n",
       "1      4.9         4.2         2.5       3.765   760122  304049     21717770  \n",
       "2      4.1         3.8         2.2       3.090   421094   92114     13159200  \n",
       "\n",
       "[3 rows x 22 columns]"
      ]
     },
     "execution_count": 16,
     "metadata": {},
     "output_type": "execute_result"
    }
   ],
   "source": [
    "data.head(3)"
   ]
  },
  {
   "cell_type": "markdown",
   "id": "f83b26e4",
   "metadata": {},
   "source": [
    "# Checking spelling mistakes and correcting it."
   ]
  },
  {
   "cell_type": "code",
   "execution_count": 17,
   "id": "4d967886",
   "metadata": {},
   "outputs": [
    {
     "data": {
      "text/plain": [
       "Chrompet      1681\n",
       "Karapakkam    1363\n",
       "KK Nagar       996\n",
       "Velachery      979\n",
       "Anna Nagar     783\n",
       "Adyar          773\n",
       "T Nagar        496\n",
       "Chrompt          9\n",
       "Chrmpet          6\n",
       "Chormpet         6\n",
       "TNagar           5\n",
       "Karapakam        3\n",
       "Ana Nagar        3\n",
       "Velchery         2\n",
       "Ann Nagar        2\n",
       "Adyr             1\n",
       "KKNagar          1\n",
       "Name: AREA, dtype: int64"
      ]
     },
     "execution_count": 17,
     "metadata": {},
     "output_type": "execute_result"
    }
   ],
   "source": [
    "data['AREA'].value_counts()"
   ]
  },
  {
   "cell_type": "code",
   "execution_count": 18,
   "id": "d5ce4358",
   "metadata": {},
   "outputs": [],
   "source": [
    "data.AREA = data.AREA.replace({'Velchery':'Velachery',\n",
    "                                         'Ann Nagar':'Anna Nagar',\n",
    "                       'Ana Nagar':'Anna Nagar',\n",
    "                       'TNagar':'T Nagar',\n",
    "                       'Chrmpet':'Chrompet',\n",
    "                               'KKNagar':'KK Nagar',\n",
    "                       'Karapakam':'Karapakkam',\n",
    "                    \n",
    "                                        })"
   ]
  },
  {
   "cell_type": "code",
   "execution_count": 19,
   "id": "ab446c99",
   "metadata": {},
   "outputs": [
    {
     "data": {
      "text/plain": [
       "AdjLand        1433\n",
       "Partial        1429\n",
       "Normal Sale    1423\n",
       "AbNormal       1406\n",
       "Family         1403\n",
       "Adj Land          6\n",
       "Ab Normal         5\n",
       "Partiall          3\n",
       "PartiaLl          1\n",
       "Name: SALE_COND, dtype: int64"
      ]
     },
     "execution_count": 19,
     "metadata": {},
     "output_type": "execute_result"
    }
   ],
   "source": [
    "data['SALE_COND'].value_counts()"
   ]
  },
  {
   "cell_type": "code",
   "execution_count": 20,
   "id": "1325567c",
   "metadata": {},
   "outputs": [
    {
     "data": {
      "text/plain": [
       "AllPub     1886\n",
       "NoSeWa     1871\n",
       "NoSewr     1829\n",
       "ELO        1522\n",
       "All Pub       1\n",
       "Name: UTILITY_AVAIL, dtype: int64"
      ]
     },
     "execution_count": 20,
     "metadata": {},
     "output_type": "execute_result"
    }
   ],
   "source": [
    "data['UTILITY_AVAIL'].value_counts()"
   ]
  },
  {
   "cell_type": "code",
   "execution_count": 21,
   "id": "976ca8f0",
   "metadata": {},
   "outputs": [],
   "source": [
    "data.UTILITY_AVAIL=data.UTILITY_AVAIL.replace({'All Pub':'AllPub','NoSewr ':'NoSeWa'})\n",
    "                                               \n",
    "                      "
   ]
  },
  {
   "cell_type": "code",
   "execution_count": 22,
   "id": "511f0035",
   "metadata": {},
   "outputs": [
    {
     "name": "stdout",
     "output_type": "stream",
     "text": [
      "['AllPub' 'ELO' 'NoSeWa']\n"
     ]
    }
   ],
   "source": [
    "print(data['UTILITY_AVAIL'].unique())"
   ]
  },
  {
   "cell_type": "code",
   "execution_count": 23,
   "id": "300c9f23",
   "metadata": {},
   "outputs": [],
   "source": [
    "data.SALE_COND = data.SALE_COND.replace({'adj land':'AdjLand',\n",
    "                                         'Adj Land':'AdjLand',\n",
    "                       'normal sale':'Normal Sale',\n",
    "                       'Partiall':'Partial',\n",
    "                       'PartiaLl':'Partial',\n",
    "                       'Ab Normal':'AbNormal',\n",
    "                    \n",
    "                                        })"
   ]
  },
  {
   "cell_type": "code",
   "execution_count": 24,
   "id": "ec81a12a",
   "metadata": {},
   "outputs": [
    {
     "name": "stdout",
     "output_type": "stream",
     "text": [
      "['AbNormal' 'Family' 'Partial' 'AdjLand' 'Normal Sale']\n"
     ]
    }
   ],
   "source": [
    "print(data['SALE_COND'].unique())"
   ]
  },
  {
   "cell_type": "code",
   "execution_count": 25,
   "id": "9585830b",
   "metadata": {},
   "outputs": [
    {
     "data": {
      "text/plain": [
       "Yes    3587\n",
       "No     3520\n",
       "Noo       2\n",
       "Name: PARK_FACIL, dtype: int64"
      ]
     },
     "execution_count": 25,
     "metadata": {},
     "output_type": "execute_result"
    }
   ],
   "source": [
    "data['PARK_FACIL'].value_counts()"
   ]
  },
  {
   "cell_type": "code",
   "execution_count": 26,
   "id": "1ed83ccf",
   "metadata": {},
   "outputs": [],
   "source": [
    "data.PARK_FACIL=data.PARK_FACIL.replace({'Noo':'No'})"
   ]
  },
  {
   "cell_type": "code",
   "execution_count": 27,
   "id": "bea82eae",
   "metadata": {},
   "outputs": [
    {
     "data": {
      "text/plain": [
       "array(['Commercial', 'Others', 'Other', 'House', 'Comercial'],\n",
       "      dtype=object)"
      ]
     },
     "execution_count": 27,
     "metadata": {},
     "output_type": "execute_result"
    }
   ],
   "source": [
    "data['BUILDTYPE'].unique()"
   ]
  },
  {
   "cell_type": "code",
   "execution_count": 28,
   "id": "cda4bd9c",
   "metadata": {},
   "outputs": [],
   "source": [
    "data.BUILDTYPE = data.BUILDTYPE.replace({'Comercial':'Commercial',\n",
    "                                         'Other':'Others',\n",
    "                    \n",
    "                                        })"
   ]
  },
  {
   "cell_type": "code",
   "execution_count": 29,
   "id": "69bbe095",
   "metadata": {},
   "outputs": [
    {
     "data": {
      "text/plain": [
       "0          AbNormal\n",
       "1          AbNormal\n",
       "2          AbNormal\n",
       "3            Family\n",
       "4          AbNormal\n",
       "           ...     \n",
       "7104        AdjLand\n",
       "7105         Family\n",
       "7106    Normal Sale\n",
       "7107        Partial\n",
       "7108        Partial\n",
       "Name: SALE_COND, Length: 7109, dtype: object"
      ]
     },
     "execution_count": 29,
     "metadata": {},
     "output_type": "execute_result"
    }
   ],
   "source": [
    "data['SALE_COND']"
   ]
  },
  {
   "cell_type": "code",
   "execution_count": 30,
   "id": "3fcec2eb",
   "metadata": {},
   "outputs": [
    {
     "data": {
      "text/plain": [
       "Yes    3587\n",
       "No     3522\n",
       "Name: PARK_FACIL, dtype: int64"
      ]
     },
     "execution_count": 30,
     "metadata": {},
     "output_type": "execute_result"
    }
   ],
   "source": [
    "data['PARK_FACIL'].value_counts()"
   ]
  },
  {
   "cell_type": "code",
   "execution_count": 31,
   "id": "642d6ebb",
   "metadata": {},
   "outputs": [],
   "source": [
    "data.PARK_FACIL = data.PARK_FACIL.replace({'Noo':'No'\n",
    "                                        })"
   ]
  },
  {
   "cell_type": "code",
   "execution_count": 32,
   "id": "2c262102",
   "metadata": {},
   "outputs": [
    {
     "data": {
      "text/html": [
       "<div>\n",
       "<style scoped>\n",
       "    .dataframe tbody tr th:only-of-type {\n",
       "        vertical-align: middle;\n",
       "    }\n",
       "\n",
       "    .dataframe tbody tr th {\n",
       "        vertical-align: top;\n",
       "    }\n",
       "\n",
       "    .dataframe thead th {\n",
       "        text-align: right;\n",
       "    }\n",
       "</style>\n",
       "<table border=\"1\" class=\"dataframe\">\n",
       "  <thead>\n",
       "    <tr style=\"text-align: right;\">\n",
       "      <th></th>\n",
       "      <th>PRT_ID</th>\n",
       "      <th>AREA</th>\n",
       "      <th>INT_SQFT</th>\n",
       "      <th>DATE_SALE</th>\n",
       "      <th>DIST_MAINROAD</th>\n",
       "      <th>N_BEDROOM</th>\n",
       "      <th>N_BATHROOM</th>\n",
       "      <th>N_ROOM</th>\n",
       "      <th>SALE_COND</th>\n",
       "      <th>PARK_FACIL</th>\n",
       "      <th>...</th>\n",
       "      <th>UTILITY_AVAIL</th>\n",
       "      <th>STREET</th>\n",
       "      <th>MZZONE</th>\n",
       "      <th>QS_ROOMS</th>\n",
       "      <th>QS_BATHROOM</th>\n",
       "      <th>QS_BEDROOM</th>\n",
       "      <th>QS_OVERALL</th>\n",
       "      <th>REG_FEE</th>\n",
       "      <th>COMMIS</th>\n",
       "      <th>SALES_PRICE</th>\n",
       "    </tr>\n",
       "  </thead>\n",
       "  <tbody>\n",
       "    <tr>\n",
       "      <th>0</th>\n",
       "      <td>P03210</td>\n",
       "      <td>Karapakkam</td>\n",
       "      <td>1004</td>\n",
       "      <td>04-05-2011</td>\n",
       "      <td>131</td>\n",
       "      <td>1.0</td>\n",
       "      <td>1.0</td>\n",
       "      <td>3</td>\n",
       "      <td>AbNormal</td>\n",
       "      <td>Yes</td>\n",
       "      <td>...</td>\n",
       "      <td>AllPub</td>\n",
       "      <td>Paved</td>\n",
       "      <td>A</td>\n",
       "      <td>4.0</td>\n",
       "      <td>3.9</td>\n",
       "      <td>4.9</td>\n",
       "      <td>4.330</td>\n",
       "      <td>380000</td>\n",
       "      <td>144400</td>\n",
       "      <td>7600000</td>\n",
       "    </tr>\n",
       "    <tr>\n",
       "      <th>1</th>\n",
       "      <td>P09411</td>\n",
       "      <td>Anna Nagar</td>\n",
       "      <td>1986</td>\n",
       "      <td>19-12-2006</td>\n",
       "      <td>26</td>\n",
       "      <td>2.0</td>\n",
       "      <td>1.0</td>\n",
       "      <td>5</td>\n",
       "      <td>AbNormal</td>\n",
       "      <td>No</td>\n",
       "      <td>...</td>\n",
       "      <td>AllPub</td>\n",
       "      <td>Gravel</td>\n",
       "      <td>RH</td>\n",
       "      <td>4.9</td>\n",
       "      <td>4.2</td>\n",
       "      <td>2.5</td>\n",
       "      <td>3.765</td>\n",
       "      <td>760122</td>\n",
       "      <td>304049</td>\n",
       "      <td>21717770</td>\n",
       "    </tr>\n",
       "    <tr>\n",
       "      <th>2</th>\n",
       "      <td>P01812</td>\n",
       "      <td>Adyar</td>\n",
       "      <td>909</td>\n",
       "      <td>04-02-2012</td>\n",
       "      <td>70</td>\n",
       "      <td>1.0</td>\n",
       "      <td>1.0</td>\n",
       "      <td>3</td>\n",
       "      <td>AbNormal</td>\n",
       "      <td>Yes</td>\n",
       "      <td>...</td>\n",
       "      <td>ELO</td>\n",
       "      <td>Gravel</td>\n",
       "      <td>RL</td>\n",
       "      <td>4.1</td>\n",
       "      <td>3.8</td>\n",
       "      <td>2.2</td>\n",
       "      <td>3.090</td>\n",
       "      <td>421094</td>\n",
       "      <td>92114</td>\n",
       "      <td>13159200</td>\n",
       "    </tr>\n",
       "    <tr>\n",
       "      <th>3</th>\n",
       "      <td>P05346</td>\n",
       "      <td>Velachery</td>\n",
       "      <td>1855</td>\n",
       "      <td>13-03-2010</td>\n",
       "      <td>14</td>\n",
       "      <td>3.0</td>\n",
       "      <td>2.0</td>\n",
       "      <td>5</td>\n",
       "      <td>Family</td>\n",
       "      <td>No</td>\n",
       "      <td>...</td>\n",
       "      <td>NoSeWa</td>\n",
       "      <td>Paved</td>\n",
       "      <td>I</td>\n",
       "      <td>4.7</td>\n",
       "      <td>3.9</td>\n",
       "      <td>3.6</td>\n",
       "      <td>4.010</td>\n",
       "      <td>356321</td>\n",
       "      <td>77042</td>\n",
       "      <td>9630290</td>\n",
       "    </tr>\n",
       "    <tr>\n",
       "      <th>4</th>\n",
       "      <td>P06210</td>\n",
       "      <td>Karapakkam</td>\n",
       "      <td>1226</td>\n",
       "      <td>05-10-2009</td>\n",
       "      <td>84</td>\n",
       "      <td>1.0</td>\n",
       "      <td>1.0</td>\n",
       "      <td>3</td>\n",
       "      <td>AbNormal</td>\n",
       "      <td>Yes</td>\n",
       "      <td>...</td>\n",
       "      <td>AllPub</td>\n",
       "      <td>Gravel</td>\n",
       "      <td>C</td>\n",
       "      <td>3.0</td>\n",
       "      <td>2.5</td>\n",
       "      <td>4.1</td>\n",
       "      <td>3.290</td>\n",
       "      <td>237000</td>\n",
       "      <td>74063</td>\n",
       "      <td>7406250</td>\n",
       "    </tr>\n",
       "    <tr>\n",
       "      <th>...</th>\n",
       "      <td>...</td>\n",
       "      <td>...</td>\n",
       "      <td>...</td>\n",
       "      <td>...</td>\n",
       "      <td>...</td>\n",
       "      <td>...</td>\n",
       "      <td>...</td>\n",
       "      <td>...</td>\n",
       "      <td>...</td>\n",
       "      <td>...</td>\n",
       "      <td>...</td>\n",
       "      <td>...</td>\n",
       "      <td>...</td>\n",
       "      <td>...</td>\n",
       "      <td>...</td>\n",
       "      <td>...</td>\n",
       "      <td>...</td>\n",
       "      <td>...</td>\n",
       "      <td>...</td>\n",
       "      <td>...</td>\n",
       "      <td>...</td>\n",
       "    </tr>\n",
       "    <tr>\n",
       "      <th>7104</th>\n",
       "      <td>P03834</td>\n",
       "      <td>Karapakkam</td>\n",
       "      <td>598</td>\n",
       "      <td>03-01-2011</td>\n",
       "      <td>51</td>\n",
       "      <td>1.0</td>\n",
       "      <td>1.0</td>\n",
       "      <td>2</td>\n",
       "      <td>AdjLand</td>\n",
       "      <td>No</td>\n",
       "      <td>...</td>\n",
       "      <td>ELO</td>\n",
       "      <td>No Access</td>\n",
       "      <td>RM</td>\n",
       "      <td>3.0</td>\n",
       "      <td>2.2</td>\n",
       "      <td>2.4</td>\n",
       "      <td>2.520</td>\n",
       "      <td>208767</td>\n",
       "      <td>107060</td>\n",
       "      <td>5353000</td>\n",
       "    </tr>\n",
       "    <tr>\n",
       "      <th>7105</th>\n",
       "      <td>P10000</td>\n",
       "      <td>Velachery</td>\n",
       "      <td>1897</td>\n",
       "      <td>08-04-2004</td>\n",
       "      <td>52</td>\n",
       "      <td>3.0</td>\n",
       "      <td>2.0</td>\n",
       "      <td>5</td>\n",
       "      <td>Family</td>\n",
       "      <td>Yes</td>\n",
       "      <td>...</td>\n",
       "      <td>NoSeWa</td>\n",
       "      <td>No Access</td>\n",
       "      <td>RH</td>\n",
       "      <td>3.6</td>\n",
       "      <td>4.5</td>\n",
       "      <td>3.3</td>\n",
       "      <td>3.920</td>\n",
       "      <td>346191</td>\n",
       "      <td>205551</td>\n",
       "      <td>10818480</td>\n",
       "    </tr>\n",
       "    <tr>\n",
       "      <th>7106</th>\n",
       "      <td>P09594</td>\n",
       "      <td>Velachery</td>\n",
       "      <td>1614</td>\n",
       "      <td>25-08-2006</td>\n",
       "      <td>152</td>\n",
       "      <td>2.0</td>\n",
       "      <td>1.0</td>\n",
       "      <td>4</td>\n",
       "      <td>Normal Sale</td>\n",
       "      <td>No</td>\n",
       "      <td>...</td>\n",
       "      <td>NoSeWa</td>\n",
       "      <td>Gravel</td>\n",
       "      <td>I</td>\n",
       "      <td>4.3</td>\n",
       "      <td>4.2</td>\n",
       "      <td>2.9</td>\n",
       "      <td>3.840</td>\n",
       "      <td>317354</td>\n",
       "      <td>167028</td>\n",
       "      <td>8351410</td>\n",
       "    </tr>\n",
       "    <tr>\n",
       "      <th>7107</th>\n",
       "      <td>P06508</td>\n",
       "      <td>Karapakkam</td>\n",
       "      <td>787</td>\n",
       "      <td>03-08-2009</td>\n",
       "      <td>40</td>\n",
       "      <td>1.0</td>\n",
       "      <td>1.0</td>\n",
       "      <td>2</td>\n",
       "      <td>Partial</td>\n",
       "      <td>Yes</td>\n",
       "      <td>...</td>\n",
       "      <td>ELO</td>\n",
       "      <td>Paved</td>\n",
       "      <td>RL</td>\n",
       "      <td>4.6</td>\n",
       "      <td>3.8</td>\n",
       "      <td>4.1</td>\n",
       "      <td>4.160</td>\n",
       "      <td>425350</td>\n",
       "      <td>119098</td>\n",
       "      <td>8507000</td>\n",
       "    </tr>\n",
       "    <tr>\n",
       "      <th>7108</th>\n",
       "      <td>P09794</td>\n",
       "      <td>Velachery</td>\n",
       "      <td>1896</td>\n",
       "      <td>13-07-2005</td>\n",
       "      <td>156</td>\n",
       "      <td>3.0</td>\n",
       "      <td>2.0</td>\n",
       "      <td>5</td>\n",
       "      <td>Partial</td>\n",
       "      <td>Yes</td>\n",
       "      <td>...</td>\n",
       "      <td>ELO</td>\n",
       "      <td>Paved</td>\n",
       "      <td>I</td>\n",
       "      <td>3.1</td>\n",
       "      <td>3.5</td>\n",
       "      <td>4.3</td>\n",
       "      <td>3.640</td>\n",
       "      <td>349177</td>\n",
       "      <td>79812</td>\n",
       "      <td>9976480</td>\n",
       "    </tr>\n",
       "  </tbody>\n",
       "</table>\n",
       "<p>7109 rows × 22 columns</p>\n",
       "</div>"
      ],
      "text/plain": [
       "      PRT_ID        AREA  INT_SQFT   DATE_SALE  DIST_MAINROAD  N_BEDROOM  \\\n",
       "0     P03210  Karapakkam      1004  04-05-2011            131        1.0   \n",
       "1     P09411  Anna Nagar      1986  19-12-2006             26        2.0   \n",
       "2     P01812       Adyar       909  04-02-2012             70        1.0   \n",
       "3     P05346   Velachery      1855  13-03-2010             14        3.0   \n",
       "4     P06210  Karapakkam      1226  05-10-2009             84        1.0   \n",
       "...      ...         ...       ...         ...            ...        ...   \n",
       "7104  P03834  Karapakkam       598  03-01-2011             51        1.0   \n",
       "7105  P10000   Velachery      1897  08-04-2004             52        3.0   \n",
       "7106  P09594   Velachery      1614  25-08-2006            152        2.0   \n",
       "7107  P06508  Karapakkam       787  03-08-2009             40        1.0   \n",
       "7108  P09794   Velachery      1896  13-07-2005            156        3.0   \n",
       "\n",
       "      N_BATHROOM  N_ROOM    SALE_COND PARK_FACIL  ... UTILITY_AVAIL  \\\n",
       "0            1.0       3     AbNormal        Yes  ...        AllPub   \n",
       "1            1.0       5     AbNormal         No  ...        AllPub   \n",
       "2            1.0       3     AbNormal        Yes  ...           ELO   \n",
       "3            2.0       5       Family         No  ...        NoSeWa   \n",
       "4            1.0       3     AbNormal        Yes  ...        AllPub   \n",
       "...          ...     ...          ...        ...  ...           ...   \n",
       "7104         1.0       2      AdjLand         No  ...           ELO   \n",
       "7105         2.0       5       Family        Yes  ...        NoSeWa   \n",
       "7106         1.0       4  Normal Sale         No  ...        NoSeWa   \n",
       "7107         1.0       2      Partial        Yes  ...           ELO   \n",
       "7108         2.0       5      Partial        Yes  ...           ELO   \n",
       "\n",
       "         STREET MZZONE QS_ROOMS QS_BATHROOM  QS_BEDROOM  QS_OVERALL  REG_FEE  \\\n",
       "0         Paved      A      4.0         3.9         4.9       4.330   380000   \n",
       "1        Gravel     RH      4.9         4.2         2.5       3.765   760122   \n",
       "2        Gravel     RL      4.1         3.8         2.2       3.090   421094   \n",
       "3         Paved      I      4.7         3.9         3.6       4.010   356321   \n",
       "4        Gravel      C      3.0         2.5         4.1       3.290   237000   \n",
       "...         ...    ...      ...         ...         ...         ...      ...   \n",
       "7104  No Access     RM      3.0         2.2         2.4       2.520   208767   \n",
       "7105  No Access     RH      3.6         4.5         3.3       3.920   346191   \n",
       "7106     Gravel      I      4.3         4.2         2.9       3.840   317354   \n",
       "7107      Paved     RL      4.6         3.8         4.1       4.160   425350   \n",
       "7108      Paved      I      3.1         3.5         4.3       3.640   349177   \n",
       "\n",
       "      COMMIS  SALES_PRICE  \n",
       "0     144400      7600000  \n",
       "1     304049     21717770  \n",
       "2      92114     13159200  \n",
       "3      77042      9630290  \n",
       "4      74063      7406250  \n",
       "...      ...          ...  \n",
       "7104  107060      5353000  \n",
       "7105  205551     10818480  \n",
       "7106  167028      8351410  \n",
       "7107  119098      8507000  \n",
       "7108   79812      9976480  \n",
       "\n",
       "[7109 rows x 22 columns]"
      ]
     },
     "execution_count": 32,
     "metadata": {},
     "output_type": "execute_result"
    }
   ],
   "source": [
    "data"
   ]
  },
  {
   "cell_type": "code",
   "execution_count": 33,
   "id": "682d1169",
   "metadata": {},
   "outputs": [
    {
     "data": {
      "text/plain": [
       "House         2444\n",
       "Others        2336\n",
       "Commercial    2329\n",
       "Name: BUILDTYPE, dtype: int64"
      ]
     },
     "execution_count": 33,
     "metadata": {},
     "output_type": "execute_result"
    }
   ],
   "source": [
    "data['BUILDTYPE'].value_counts()\n",
    "#data.BUILDTYPE = data.BUILDTYPE.replace({'Other':'Others','Comercial':'Commercial'})"
   ]
  },
  {
   "cell_type": "code",
   "execution_count": 34,
   "id": "7d1a61ce",
   "metadata": {},
   "outputs": [
    {
     "data": {
      "text/plain": [
       "NoSeWa    3700\n",
       "AllPub    1887\n",
       "ELO       1522\n",
       "Name: UTILITY_AVAIL, dtype: int64"
      ]
     },
     "execution_count": 34,
     "metadata": {},
     "output_type": "execute_result"
    }
   ],
   "source": [
    "data['UTILITY_AVAIL'].value_counts()"
   ]
  },
  {
   "cell_type": "code",
   "execution_count": 35,
   "id": "5debf594",
   "metadata": {},
   "outputs": [],
   "source": [
    "data.UTILITY_AVAIL = data.UTILITY_AVAIL.replace({'All Pub':'AllPub','NoSewr':'NoSeWa'\n",
    "                                        })\n",
    "data.UTILITY_AVAIL = data.UTILITY_AVAIL.replace({'NoSewr':'NoSeWa'\n",
    "                                        })"
   ]
  },
  {
   "cell_type": "code",
   "execution_count": 36,
   "id": "1b07c030",
   "metadata": {},
   "outputs": [
    {
     "data": {
      "text/plain": [
       "NoSeWa    3700\n",
       "AllPub    1887\n",
       "ELO       1522\n",
       "Name: UTILITY_AVAIL, dtype: int64"
      ]
     },
     "execution_count": 36,
     "metadata": {},
     "output_type": "execute_result"
    }
   ],
   "source": [
    "data.UTILITY_AVAIL = data.UTILITY_AVAIL.replace({'NoSewr':'NoSeWa'})\n",
    "                                        \n",
    "data['UTILITY_AVAIL'].value_counts()"
   ]
  },
  {
   "cell_type": "code",
   "execution_count": 37,
   "id": "74213445",
   "metadata": {},
   "outputs": [
    {
     "data": {
      "text/plain": [
       "House         2444\n",
       "Others        2336\n",
       "Commercial    2329\n",
       "Name: BUILDTYPE, dtype: int64"
      ]
     },
     "execution_count": 37,
     "metadata": {},
     "output_type": "execute_result"
    }
   ],
   "source": [
    "data['BUILDTYPE'].value_counts()"
   ]
  },
  {
   "cell_type": "code",
   "execution_count": 38,
   "id": "0755beec",
   "metadata": {},
   "outputs": [],
   "source": [
    "data.BUILDTYPE=data.BUILDTYPE.replace({'Comercial':'Commercial','Other':'Others'})"
   ]
  },
  {
   "cell_type": "code",
   "execution_count": 39,
   "id": "e473cf50",
   "metadata": {},
   "outputs": [],
   "source": [
    "data.STREET=data.STREET.replace({'Pavd':'Paved','NoAccess':'No Access'})"
   ]
  },
  {
   "cell_type": "code",
   "execution_count": 40,
   "id": "3c2c8ef4",
   "metadata": {},
   "outputs": [
    {
     "data": {
      "text/plain": [
       "Paved        2572\n",
       "Gravel       2520\n",
       "No Access    2017\n",
       "Name: STREET, dtype: int64"
      ]
     },
     "execution_count": 40,
     "metadata": {},
     "output_type": "execute_result"
    }
   ],
   "source": [
    "data['STREET'].value_counts()"
   ]
  },
  {
   "cell_type": "code",
   "execution_count": 41,
   "id": "42eb6fcf",
   "metadata": {},
   "outputs": [
    {
     "data": {
      "text/plain": [
       "RL    1858\n",
       "RH    1822\n",
       "RM    1817\n",
       "C      550\n",
       "A      537\n",
       "I      525\n",
       "Name: MZZONE, dtype: int64"
      ]
     },
     "execution_count": 41,
     "metadata": {},
     "output_type": "execute_result"
    }
   ],
   "source": [
    "data['MZZONE'].value_counts()"
   ]
  },
  {
   "cell_type": "markdown",
   "id": "1260fecc",
   "metadata": {},
   "source": [
    "# checking all the Unique values"
   ]
  },
  {
   "cell_type": "code",
   "execution_count": 42,
   "id": "3a8e94c9",
   "metadata": {},
   "outputs": [
    {
     "name": "stdout",
     "output_type": "stream",
     "text": [
      "['Karapakkam' 'Anna Nagar' 'Adyar' 'Velachery' 'Chrompet' 'KK Nagar'\n",
      " 'T Nagar' 'Chrompt' 'Chormpet' 'Adyr']\n",
      "['AbNormal' 'Family' 'Partial' 'AdjLand' 'Normal Sale']\n",
      "['Yes' 'No']\n",
      "['Commercial' 'Others' 'House']\n",
      "['AllPub' 'ELO' 'NoSeWa']\n",
      "['Paved' 'Gravel' 'No Access']\n",
      "['A' 'RH' 'RL' 'I' 'C' 'RM']\n"
     ]
    }
   ],
   "source": [
    "print(data['AREA'].unique())\n",
    "print(data['SALE_COND'].unique())\n",
    "print(data['PARK_FACIL'].unique())\n",
    "print(data['BUILDTYPE'].unique())\n",
    "print(data['UTILITY_AVAIL'].unique())\n",
    "print(data['STREET'].unique())\n",
    "print(data['MZZONE'].unique())"
   ]
  },
  {
   "cell_type": "markdown",
   "id": "8f364490",
   "metadata": {},
   "source": [
    "# changing the appropriate data types"
   ]
  },
  {
   "cell_type": "code",
   "execution_count": 43,
   "id": "cb2c6564",
   "metadata": {},
   "outputs": [],
   "source": [
    "data.N_BEDROOM = data.N_BEDROOM.astype(int)\n",
    "data.N_BATHROOM = data.N_BATHROOM.astype(int)\n",
    "data.QS_ROOMS = data.QS_ROOMS.astype(int)\n",
    "data.QS_BATHROOM = data.QS_BATHROOM.astype(int)\n",
    "data.QS_BEDROOM = data.QS_BEDROOM.astype(int)"
   ]
  },
  {
   "cell_type": "code",
   "execution_count": 44,
   "id": "fee0851f",
   "metadata": {},
   "outputs": [
    {
     "name": "stdout",
     "output_type": "stream",
     "text": [
      "<class 'pandas.core.frame.DataFrame'>\n",
      "RangeIndex: 7109 entries, 0 to 7108\n",
      "Data columns (total 22 columns):\n",
      " #   Column         Non-Null Count  Dtype  \n",
      "---  ------         --------------  -----  \n",
      " 0   PRT_ID         7109 non-null   object \n",
      " 1   AREA           7109 non-null   object \n",
      " 2   INT_SQFT       7109 non-null   int64  \n",
      " 3   DATE_SALE      7109 non-null   object \n",
      " 4   DIST_MAINROAD  7109 non-null   int64  \n",
      " 5   N_BEDROOM      7109 non-null   int32  \n",
      " 6   N_BATHROOM     7109 non-null   int32  \n",
      " 7   N_ROOM         7109 non-null   int64  \n",
      " 8   SALE_COND      7109 non-null   object \n",
      " 9   PARK_FACIL     7109 non-null   object \n",
      " 10  DATE_BUILD     7109 non-null   object \n",
      " 11  BUILDTYPE      7109 non-null   object \n",
      " 12  UTILITY_AVAIL  7109 non-null   object \n",
      " 13  STREET         7109 non-null   object \n",
      " 14  MZZONE         7109 non-null   object \n",
      " 15  QS_ROOMS       7109 non-null   int32  \n",
      " 16  QS_BATHROOM    7109 non-null   int32  \n",
      " 17  QS_BEDROOM     7109 non-null   int32  \n",
      " 18  QS_OVERALL     7109 non-null   float64\n",
      " 19  REG_FEE        7109 non-null   int64  \n",
      " 20  COMMIS         7109 non-null   int64  \n",
      " 21  SALES_PRICE    7109 non-null   int64  \n",
      "dtypes: float64(1), int32(5), int64(6), object(10)\n",
      "memory usage: 1.1+ MB\n"
     ]
    }
   ],
   "source": [
    "data.info()"
   ]
  },
  {
   "cell_type": "code",
   "execution_count": 45,
   "id": "ef9c965a",
   "metadata": {},
   "outputs": [
    {
     "data": {
      "text/html": [
       "<div>\n",
       "<style scoped>\n",
       "    .dataframe tbody tr th:only-of-type {\n",
       "        vertical-align: middle;\n",
       "    }\n",
       "\n",
       "    .dataframe tbody tr th {\n",
       "        vertical-align: top;\n",
       "    }\n",
       "\n",
       "    .dataframe thead th {\n",
       "        text-align: right;\n",
       "    }\n",
       "</style>\n",
       "<table border=\"1\" class=\"dataframe\">\n",
       "  <thead>\n",
       "    <tr style=\"text-align: right;\">\n",
       "      <th></th>\n",
       "      <th>PRT_ID</th>\n",
       "      <th>AREA</th>\n",
       "      <th>INT_SQFT</th>\n",
       "      <th>DATE_SALE</th>\n",
       "      <th>DIST_MAINROAD</th>\n",
       "      <th>N_BEDROOM</th>\n",
       "      <th>N_BATHROOM</th>\n",
       "      <th>N_ROOM</th>\n",
       "      <th>SALE_COND</th>\n",
       "      <th>PARK_FACIL</th>\n",
       "      <th>...</th>\n",
       "      <th>UTILITY_AVAIL</th>\n",
       "      <th>STREET</th>\n",
       "      <th>MZZONE</th>\n",
       "      <th>QS_ROOMS</th>\n",
       "      <th>QS_BATHROOM</th>\n",
       "      <th>QS_BEDROOM</th>\n",
       "      <th>QS_OVERALL</th>\n",
       "      <th>REG_FEE</th>\n",
       "      <th>COMMIS</th>\n",
       "      <th>SALES_PRICE</th>\n",
       "    </tr>\n",
       "  </thead>\n",
       "  <tbody>\n",
       "    <tr>\n",
       "      <th>0</th>\n",
       "      <td>P03210</td>\n",
       "      <td>Karapakkam</td>\n",
       "      <td>1004</td>\n",
       "      <td>04-05-2011</td>\n",
       "      <td>131</td>\n",
       "      <td>1</td>\n",
       "      <td>1</td>\n",
       "      <td>3</td>\n",
       "      <td>AbNormal</td>\n",
       "      <td>Yes</td>\n",
       "      <td>...</td>\n",
       "      <td>AllPub</td>\n",
       "      <td>Paved</td>\n",
       "      <td>A</td>\n",
       "      <td>4</td>\n",
       "      <td>3</td>\n",
       "      <td>4</td>\n",
       "      <td>4.330</td>\n",
       "      <td>380000</td>\n",
       "      <td>144400</td>\n",
       "      <td>7600000</td>\n",
       "    </tr>\n",
       "    <tr>\n",
       "      <th>1</th>\n",
       "      <td>P09411</td>\n",
       "      <td>Anna Nagar</td>\n",
       "      <td>1986</td>\n",
       "      <td>19-12-2006</td>\n",
       "      <td>26</td>\n",
       "      <td>2</td>\n",
       "      <td>1</td>\n",
       "      <td>5</td>\n",
       "      <td>AbNormal</td>\n",
       "      <td>No</td>\n",
       "      <td>...</td>\n",
       "      <td>AllPub</td>\n",
       "      <td>Gravel</td>\n",
       "      <td>RH</td>\n",
       "      <td>4</td>\n",
       "      <td>4</td>\n",
       "      <td>2</td>\n",
       "      <td>3.765</td>\n",
       "      <td>760122</td>\n",
       "      <td>304049</td>\n",
       "      <td>21717770</td>\n",
       "    </tr>\n",
       "  </tbody>\n",
       "</table>\n",
       "<p>2 rows × 22 columns</p>\n",
       "</div>"
      ],
      "text/plain": [
       "   PRT_ID        AREA  INT_SQFT   DATE_SALE  DIST_MAINROAD  N_BEDROOM  \\\n",
       "0  P03210  Karapakkam      1004  04-05-2011            131          1   \n",
       "1  P09411  Anna Nagar      1986  19-12-2006             26          2   \n",
       "\n",
       "   N_BATHROOM  N_ROOM SALE_COND PARK_FACIL  ... UTILITY_AVAIL  STREET MZZONE  \\\n",
       "0           1       3  AbNormal        Yes  ...        AllPub   Paved      A   \n",
       "1           1       5  AbNormal         No  ...        AllPub  Gravel     RH   \n",
       "\n",
       "  QS_ROOMS QS_BATHROOM  QS_BEDROOM  QS_OVERALL  REG_FEE  COMMIS  SALES_PRICE  \n",
       "0        4           3           4       4.330   380000  144400      7600000  \n",
       "1        4           4           2       3.765   760122  304049     21717770  \n",
       "\n",
       "[2 rows x 22 columns]"
      ]
     },
     "execution_count": 45,
     "metadata": {},
     "output_type": "execute_result"
    }
   ],
   "source": [
    "data.head(2)"
   ]
  },
  {
   "cell_type": "code",
   "execution_count": 46,
   "id": "ee1534b3",
   "metadata": {},
   "outputs": [],
   "source": [
    "#we have date column in object format we have to change it in date time format\n",
    "data.DATE_SALE=pd.to_datetime(data.DATE_SALE,format='%d-%m-%Y')\n",
    "data.DATE_BUILD=pd.to_datetime(data.DATE_BUILD,format='%d-%m-%Y')"
   ]
  },
  {
   "cell_type": "code",
   "execution_count": 47,
   "id": "ff08bb08",
   "metadata": {},
   "outputs": [
    {
     "name": "stdout",
     "output_type": "stream",
     "text": [
      "<class 'pandas.core.frame.DataFrame'>\n",
      "RangeIndex: 7109 entries, 0 to 7108\n",
      "Data columns (total 22 columns):\n",
      " #   Column         Non-Null Count  Dtype         \n",
      "---  ------         --------------  -----         \n",
      " 0   PRT_ID         7109 non-null   object        \n",
      " 1   AREA           7109 non-null   object        \n",
      " 2   INT_SQFT       7109 non-null   int64         \n",
      " 3   DATE_SALE      7109 non-null   datetime64[ns]\n",
      " 4   DIST_MAINROAD  7109 non-null   int64         \n",
      " 5   N_BEDROOM      7109 non-null   int32         \n",
      " 6   N_BATHROOM     7109 non-null   int32         \n",
      " 7   N_ROOM         7109 non-null   int64         \n",
      " 8   SALE_COND      7109 non-null   object        \n",
      " 9   PARK_FACIL     7109 non-null   object        \n",
      " 10  DATE_BUILD     7109 non-null   datetime64[ns]\n",
      " 11  BUILDTYPE      7109 non-null   object        \n",
      " 12  UTILITY_AVAIL  7109 non-null   object        \n",
      " 13  STREET         7109 non-null   object        \n",
      " 14  MZZONE         7109 non-null   object        \n",
      " 15  QS_ROOMS       7109 non-null   int32         \n",
      " 16  QS_BATHROOM    7109 non-null   int32         \n",
      " 17  QS_BEDROOM     7109 non-null   int32         \n",
      " 18  QS_OVERALL     7109 non-null   float64       \n",
      " 19  REG_FEE        7109 non-null   int64         \n",
      " 20  COMMIS         7109 non-null   int64         \n",
      " 21  SALES_PRICE    7109 non-null   int64         \n",
      "dtypes: datetime64[ns](2), float64(1), int32(5), int64(6), object(8)\n",
      "memory usage: 1.1+ MB\n"
     ]
    }
   ],
   "source": [
    "data.info()"
   ]
  },
  {
   "cell_type": "code",
   "execution_count": 48,
   "id": "2c6522ad",
   "metadata": {},
   "outputs": [],
   "source": [
    "# Creating total_price column by adding reg_fee,commis and sales_price columns\n",
    "data['TOTAL_PRICE'] = pd.DataFrame(data.REG_FEE\t+ data.COMMIS\t+ data.SALES_PRICE)"
   ]
  },
  {
   "cell_type": "code",
   "execution_count": 49,
   "id": "689a2e08",
   "metadata": {},
   "outputs": [
    {
     "data": {
      "text/html": [
       "<div>\n",
       "<style scoped>\n",
       "    .dataframe tbody tr th:only-of-type {\n",
       "        vertical-align: middle;\n",
       "    }\n",
       "\n",
       "    .dataframe tbody tr th {\n",
       "        vertical-align: top;\n",
       "    }\n",
       "\n",
       "    .dataframe thead th {\n",
       "        text-align: right;\n",
       "    }\n",
       "</style>\n",
       "<table border=\"1\" class=\"dataframe\">\n",
       "  <thead>\n",
       "    <tr style=\"text-align: right;\">\n",
       "      <th></th>\n",
       "      <th>AREA</th>\n",
       "      <th>INT_SQFT</th>\n",
       "      <th>DATE_SALE</th>\n",
       "      <th>DIST_MAINROAD</th>\n",
       "      <th>N_BEDROOM</th>\n",
       "      <th>N_BATHROOM</th>\n",
       "      <th>N_ROOM</th>\n",
       "      <th>SALE_COND</th>\n",
       "      <th>PARK_FACIL</th>\n",
       "      <th>DATE_BUILD</th>\n",
       "      <th>BUILDTYPE</th>\n",
       "      <th>UTILITY_AVAIL</th>\n",
       "      <th>STREET</th>\n",
       "      <th>MZZONE</th>\n",
       "      <th>QS_ROOMS</th>\n",
       "      <th>QS_BATHROOM</th>\n",
       "      <th>QS_BEDROOM</th>\n",
       "      <th>QS_OVERALL</th>\n",
       "      <th>SALES_PRICE</th>\n",
       "      <th>TOTAL_PRICE</th>\n",
       "    </tr>\n",
       "  </thead>\n",
       "  <tbody>\n",
       "    <tr>\n",
       "      <th>0</th>\n",
       "      <td>Karapakkam</td>\n",
       "      <td>1004</td>\n",
       "      <td>2011-05-04</td>\n",
       "      <td>131</td>\n",
       "      <td>1</td>\n",
       "      <td>1</td>\n",
       "      <td>3</td>\n",
       "      <td>AbNormal</td>\n",
       "      <td>Yes</td>\n",
       "      <td>1967-05-15</td>\n",
       "      <td>Commercial</td>\n",
       "      <td>AllPub</td>\n",
       "      <td>Paved</td>\n",
       "      <td>A</td>\n",
       "      <td>4</td>\n",
       "      <td>3</td>\n",
       "      <td>4</td>\n",
       "      <td>4.330</td>\n",
       "      <td>7600000</td>\n",
       "      <td>8124400</td>\n",
       "    </tr>\n",
       "    <tr>\n",
       "      <th>1</th>\n",
       "      <td>Anna Nagar</td>\n",
       "      <td>1986</td>\n",
       "      <td>2006-12-19</td>\n",
       "      <td>26</td>\n",
       "      <td>2</td>\n",
       "      <td>1</td>\n",
       "      <td>5</td>\n",
       "      <td>AbNormal</td>\n",
       "      <td>No</td>\n",
       "      <td>1995-12-22</td>\n",
       "      <td>Commercial</td>\n",
       "      <td>AllPub</td>\n",
       "      <td>Gravel</td>\n",
       "      <td>RH</td>\n",
       "      <td>4</td>\n",
       "      <td>4</td>\n",
       "      <td>2</td>\n",
       "      <td>3.765</td>\n",
       "      <td>21717770</td>\n",
       "      <td>22781941</td>\n",
       "    </tr>\n",
       "    <tr>\n",
       "      <th>2</th>\n",
       "      <td>Adyar</td>\n",
       "      <td>909</td>\n",
       "      <td>2012-02-04</td>\n",
       "      <td>70</td>\n",
       "      <td>1</td>\n",
       "      <td>1</td>\n",
       "      <td>3</td>\n",
       "      <td>AbNormal</td>\n",
       "      <td>Yes</td>\n",
       "      <td>1992-02-09</td>\n",
       "      <td>Commercial</td>\n",
       "      <td>ELO</td>\n",
       "      <td>Gravel</td>\n",
       "      <td>RL</td>\n",
       "      <td>4</td>\n",
       "      <td>3</td>\n",
       "      <td>2</td>\n",
       "      <td>3.090</td>\n",
       "      <td>13159200</td>\n",
       "      <td>13672408</td>\n",
       "    </tr>\n",
       "    <tr>\n",
       "      <th>3</th>\n",
       "      <td>Velachery</td>\n",
       "      <td>1855</td>\n",
       "      <td>2010-03-13</td>\n",
       "      <td>14</td>\n",
       "      <td>3</td>\n",
       "      <td>2</td>\n",
       "      <td>5</td>\n",
       "      <td>Family</td>\n",
       "      <td>No</td>\n",
       "      <td>1988-03-18</td>\n",
       "      <td>Others</td>\n",
       "      <td>NoSeWa</td>\n",
       "      <td>Paved</td>\n",
       "      <td>I</td>\n",
       "      <td>4</td>\n",
       "      <td>3</td>\n",
       "      <td>3</td>\n",
       "      <td>4.010</td>\n",
       "      <td>9630290</td>\n",
       "      <td>10063653</td>\n",
       "    </tr>\n",
       "    <tr>\n",
       "      <th>4</th>\n",
       "      <td>Karapakkam</td>\n",
       "      <td>1226</td>\n",
       "      <td>2009-10-05</td>\n",
       "      <td>84</td>\n",
       "      <td>1</td>\n",
       "      <td>1</td>\n",
       "      <td>3</td>\n",
       "      <td>AbNormal</td>\n",
       "      <td>Yes</td>\n",
       "      <td>1979-10-13</td>\n",
       "      <td>Others</td>\n",
       "      <td>AllPub</td>\n",
       "      <td>Gravel</td>\n",
       "      <td>C</td>\n",
       "      <td>3</td>\n",
       "      <td>2</td>\n",
       "      <td>4</td>\n",
       "      <td>3.290</td>\n",
       "      <td>7406250</td>\n",
       "      <td>7717313</td>\n",
       "    </tr>\n",
       "    <tr>\n",
       "      <th>...</th>\n",
       "      <td>...</td>\n",
       "      <td>...</td>\n",
       "      <td>...</td>\n",
       "      <td>...</td>\n",
       "      <td>...</td>\n",
       "      <td>...</td>\n",
       "      <td>...</td>\n",
       "      <td>...</td>\n",
       "      <td>...</td>\n",
       "      <td>...</td>\n",
       "      <td>...</td>\n",
       "      <td>...</td>\n",
       "      <td>...</td>\n",
       "      <td>...</td>\n",
       "      <td>...</td>\n",
       "      <td>...</td>\n",
       "      <td>...</td>\n",
       "      <td>...</td>\n",
       "      <td>...</td>\n",
       "      <td>...</td>\n",
       "    </tr>\n",
       "    <tr>\n",
       "      <th>7104</th>\n",
       "      <td>Karapakkam</td>\n",
       "      <td>598</td>\n",
       "      <td>2011-01-03</td>\n",
       "      <td>51</td>\n",
       "      <td>1</td>\n",
       "      <td>1</td>\n",
       "      <td>2</td>\n",
       "      <td>AdjLand</td>\n",
       "      <td>No</td>\n",
       "      <td>1962-01-15</td>\n",
       "      <td>Others</td>\n",
       "      <td>ELO</td>\n",
       "      <td>No Access</td>\n",
       "      <td>RM</td>\n",
       "      <td>3</td>\n",
       "      <td>2</td>\n",
       "      <td>2</td>\n",
       "      <td>2.520</td>\n",
       "      <td>5353000</td>\n",
       "      <td>5668827</td>\n",
       "    </tr>\n",
       "    <tr>\n",
       "      <th>7105</th>\n",
       "      <td>Velachery</td>\n",
       "      <td>1897</td>\n",
       "      <td>2004-04-08</td>\n",
       "      <td>52</td>\n",
       "      <td>3</td>\n",
       "      <td>2</td>\n",
       "      <td>5</td>\n",
       "      <td>Family</td>\n",
       "      <td>Yes</td>\n",
       "      <td>1995-04-11</td>\n",
       "      <td>Others</td>\n",
       "      <td>NoSeWa</td>\n",
       "      <td>No Access</td>\n",
       "      <td>RH</td>\n",
       "      <td>3</td>\n",
       "      <td>4</td>\n",
       "      <td>3</td>\n",
       "      <td>3.920</td>\n",
       "      <td>10818480</td>\n",
       "      <td>11370222</td>\n",
       "    </tr>\n",
       "    <tr>\n",
       "      <th>7106</th>\n",
       "      <td>Velachery</td>\n",
       "      <td>1614</td>\n",
       "      <td>2006-08-25</td>\n",
       "      <td>152</td>\n",
       "      <td>2</td>\n",
       "      <td>1</td>\n",
       "      <td>4</td>\n",
       "      <td>Normal Sale</td>\n",
       "      <td>No</td>\n",
       "      <td>1978-09-01</td>\n",
       "      <td>House</td>\n",
       "      <td>NoSeWa</td>\n",
       "      <td>Gravel</td>\n",
       "      <td>I</td>\n",
       "      <td>4</td>\n",
       "      <td>4</td>\n",
       "      <td>2</td>\n",
       "      <td>3.840</td>\n",
       "      <td>8351410</td>\n",
       "      <td>8835792</td>\n",
       "    </tr>\n",
       "    <tr>\n",
       "      <th>7107</th>\n",
       "      <td>Karapakkam</td>\n",
       "      <td>787</td>\n",
       "      <td>2009-08-03</td>\n",
       "      <td>40</td>\n",
       "      <td>1</td>\n",
       "      <td>1</td>\n",
       "      <td>2</td>\n",
       "      <td>Partial</td>\n",
       "      <td>Yes</td>\n",
       "      <td>1977-08-11</td>\n",
       "      <td>Commercial</td>\n",
       "      <td>ELO</td>\n",
       "      <td>Paved</td>\n",
       "      <td>RL</td>\n",
       "      <td>4</td>\n",
       "      <td>3</td>\n",
       "      <td>4</td>\n",
       "      <td>4.160</td>\n",
       "      <td>8507000</td>\n",
       "      <td>9051448</td>\n",
       "    </tr>\n",
       "    <tr>\n",
       "      <th>7108</th>\n",
       "      <td>Velachery</td>\n",
       "      <td>1896</td>\n",
       "      <td>2005-07-13</td>\n",
       "      <td>156</td>\n",
       "      <td>3</td>\n",
       "      <td>2</td>\n",
       "      <td>5</td>\n",
       "      <td>Partial</td>\n",
       "      <td>Yes</td>\n",
       "      <td>1961-07-24</td>\n",
       "      <td>Others</td>\n",
       "      <td>ELO</td>\n",
       "      <td>Paved</td>\n",
       "      <td>I</td>\n",
       "      <td>3</td>\n",
       "      <td>3</td>\n",
       "      <td>4</td>\n",
       "      <td>3.640</td>\n",
       "      <td>9976480</td>\n",
       "      <td>10405469</td>\n",
       "    </tr>\n",
       "  </tbody>\n",
       "</table>\n",
       "<p>7109 rows × 20 columns</p>\n",
       "</div>"
      ],
      "text/plain": [
       "            AREA  INT_SQFT  DATE_SALE  DIST_MAINROAD  N_BEDROOM  N_BATHROOM  \\\n",
       "0     Karapakkam      1004 2011-05-04            131          1           1   \n",
       "1     Anna Nagar      1986 2006-12-19             26          2           1   \n",
       "2          Adyar       909 2012-02-04             70          1           1   \n",
       "3      Velachery      1855 2010-03-13             14          3           2   \n",
       "4     Karapakkam      1226 2009-10-05             84          1           1   \n",
       "...          ...       ...        ...            ...        ...         ...   \n",
       "7104  Karapakkam       598 2011-01-03             51          1           1   \n",
       "7105   Velachery      1897 2004-04-08             52          3           2   \n",
       "7106   Velachery      1614 2006-08-25            152          2           1   \n",
       "7107  Karapakkam       787 2009-08-03             40          1           1   \n",
       "7108   Velachery      1896 2005-07-13            156          3           2   \n",
       "\n",
       "      N_ROOM    SALE_COND PARK_FACIL DATE_BUILD   BUILDTYPE UTILITY_AVAIL  \\\n",
       "0          3     AbNormal        Yes 1967-05-15  Commercial        AllPub   \n",
       "1          5     AbNormal         No 1995-12-22  Commercial        AllPub   \n",
       "2          3     AbNormal        Yes 1992-02-09  Commercial           ELO   \n",
       "3          5       Family         No 1988-03-18      Others        NoSeWa   \n",
       "4          3     AbNormal        Yes 1979-10-13      Others        AllPub   \n",
       "...      ...          ...        ...        ...         ...           ...   \n",
       "7104       2      AdjLand         No 1962-01-15      Others           ELO   \n",
       "7105       5       Family        Yes 1995-04-11      Others        NoSeWa   \n",
       "7106       4  Normal Sale         No 1978-09-01       House        NoSeWa   \n",
       "7107       2      Partial        Yes 1977-08-11  Commercial           ELO   \n",
       "7108       5      Partial        Yes 1961-07-24      Others           ELO   \n",
       "\n",
       "         STREET MZZONE  QS_ROOMS  QS_BATHROOM  QS_BEDROOM  QS_OVERALL  \\\n",
       "0         Paved      A         4            3           4       4.330   \n",
       "1        Gravel     RH         4            4           2       3.765   \n",
       "2        Gravel     RL         4            3           2       3.090   \n",
       "3         Paved      I         4            3           3       4.010   \n",
       "4        Gravel      C         3            2           4       3.290   \n",
       "...         ...    ...       ...          ...         ...         ...   \n",
       "7104  No Access     RM         3            2           2       2.520   \n",
       "7105  No Access     RH         3            4           3       3.920   \n",
       "7106     Gravel      I         4            4           2       3.840   \n",
       "7107      Paved     RL         4            3           4       4.160   \n",
       "7108      Paved      I         3            3           4       3.640   \n",
       "\n",
       "      SALES_PRICE  TOTAL_PRICE  \n",
       "0         7600000      8124400  \n",
       "1        21717770     22781941  \n",
       "2        13159200     13672408  \n",
       "3         9630290     10063653  \n",
       "4         7406250      7717313  \n",
       "...           ...          ...  \n",
       "7104      5353000      5668827  \n",
       "7105     10818480     11370222  \n",
       "7106      8351410      8835792  \n",
       "7107      8507000      9051448  \n",
       "7108      9976480     10405469  \n",
       "\n",
       "[7109 rows x 20 columns]"
      ]
     },
     "execution_count": 49,
     "metadata": {},
     "output_type": "execute_result"
    }
   ],
   "source": [
    "#dropping unnecessary columns\n",
    "data.drop(['PRT_ID','REG_FEE','COMMIS'], axis=1)"
   ]
  },
  {
   "cell_type": "markdown",
   "id": "9b7fa893",
   "metadata": {},
   "source": [
    "# Creating the age of the building based on datesale and date build column "
   ]
  },
  {
   "cell_type": "code",
   "execution_count": 50,
   "id": "2a57b8aa",
   "metadata": {},
   "outputs": [
    {
     "name": "stdout",
     "output_type": "stream",
     "text": [
      "<class 'pandas.core.frame.DataFrame'>\n",
      "RangeIndex: 7109 entries, 0 to 7108\n",
      "Data columns (total 23 columns):\n",
      " #   Column         Non-Null Count  Dtype         \n",
      "---  ------         --------------  -----         \n",
      " 0   PRT_ID         7109 non-null   object        \n",
      " 1   AREA           7109 non-null   object        \n",
      " 2   INT_SQFT       7109 non-null   int64         \n",
      " 3   DATE_SALE      7109 non-null   datetime64[ns]\n",
      " 4   DIST_MAINROAD  7109 non-null   int64         \n",
      " 5   N_BEDROOM      7109 non-null   int32         \n",
      " 6   N_BATHROOM     7109 non-null   int32         \n",
      " 7   N_ROOM         7109 non-null   int64         \n",
      " 8   SALE_COND      7109 non-null   object        \n",
      " 9   PARK_FACIL     7109 non-null   object        \n",
      " 10  DATE_BUILD     7109 non-null   datetime64[ns]\n",
      " 11  BUILDTYPE      7109 non-null   object        \n",
      " 12  UTILITY_AVAIL  7109 non-null   object        \n",
      " 13  STREET         7109 non-null   object        \n",
      " 14  MZZONE         7109 non-null   object        \n",
      " 15  QS_ROOMS       7109 non-null   int32         \n",
      " 16  QS_BATHROOM    7109 non-null   int32         \n",
      " 17  QS_BEDROOM     7109 non-null   int32         \n",
      " 18  QS_OVERALL     7109 non-null   float64       \n",
      " 19  REG_FEE        7109 non-null   int64         \n",
      " 20  COMMIS         7109 non-null   int64         \n",
      " 21  SALES_PRICE    7109 non-null   int64         \n",
      " 22  TOTAL_PRICE    7109 non-null   int64         \n",
      "dtypes: datetime64[ns](2), float64(1), int32(5), int64(7), object(8)\n",
      "memory usage: 1.1+ MB\n"
     ]
    }
   ],
   "source": [
    "data.info()"
   ]
  },
  {
   "cell_type": "code",
   "execution_count": 51,
   "id": "38e3be4a",
   "metadata": {},
   "outputs": [],
   "source": [
    "data['PROPERTY_AGE'] = pd.DatetimeIndex(data.DATE_SALE).year - pd.DatetimeIndex(data.DATE_BUILD).year\n"
   ]
  },
  {
   "cell_type": "code",
   "execution_count": 52,
   "id": "451df1a1",
   "metadata": {},
   "outputs": [
    {
     "data": {
      "text/html": [
       "<div>\n",
       "<style scoped>\n",
       "    .dataframe tbody tr th:only-of-type {\n",
       "        vertical-align: middle;\n",
       "    }\n",
       "\n",
       "    .dataframe tbody tr th {\n",
       "        vertical-align: top;\n",
       "    }\n",
       "\n",
       "    .dataframe thead th {\n",
       "        text-align: right;\n",
       "    }\n",
       "</style>\n",
       "<table border=\"1\" class=\"dataframe\">\n",
       "  <thead>\n",
       "    <tr style=\"text-align: right;\">\n",
       "      <th></th>\n",
       "      <th>PRT_ID</th>\n",
       "      <th>AREA</th>\n",
       "      <th>INT_SQFT</th>\n",
       "      <th>DATE_SALE</th>\n",
       "      <th>DIST_MAINROAD</th>\n",
       "      <th>N_BEDROOM</th>\n",
       "      <th>N_BATHROOM</th>\n",
       "      <th>N_ROOM</th>\n",
       "      <th>SALE_COND</th>\n",
       "      <th>PARK_FACIL</th>\n",
       "      <th>...</th>\n",
       "      <th>MZZONE</th>\n",
       "      <th>QS_ROOMS</th>\n",
       "      <th>QS_BATHROOM</th>\n",
       "      <th>QS_BEDROOM</th>\n",
       "      <th>QS_OVERALL</th>\n",
       "      <th>REG_FEE</th>\n",
       "      <th>COMMIS</th>\n",
       "      <th>SALES_PRICE</th>\n",
       "      <th>TOTAL_PRICE</th>\n",
       "      <th>PROPERTY_AGE</th>\n",
       "    </tr>\n",
       "  </thead>\n",
       "  <tbody>\n",
       "    <tr>\n",
       "      <th>0</th>\n",
       "      <td>P03210</td>\n",
       "      <td>Karapakkam</td>\n",
       "      <td>1004</td>\n",
       "      <td>2011-05-04</td>\n",
       "      <td>131</td>\n",
       "      <td>1</td>\n",
       "      <td>1</td>\n",
       "      <td>3</td>\n",
       "      <td>AbNormal</td>\n",
       "      <td>Yes</td>\n",
       "      <td>...</td>\n",
       "      <td>A</td>\n",
       "      <td>4</td>\n",
       "      <td>3</td>\n",
       "      <td>4</td>\n",
       "      <td>4.330</td>\n",
       "      <td>380000</td>\n",
       "      <td>144400</td>\n",
       "      <td>7600000</td>\n",
       "      <td>8124400</td>\n",
       "      <td>44</td>\n",
       "    </tr>\n",
       "    <tr>\n",
       "      <th>1</th>\n",
       "      <td>P09411</td>\n",
       "      <td>Anna Nagar</td>\n",
       "      <td>1986</td>\n",
       "      <td>2006-12-19</td>\n",
       "      <td>26</td>\n",
       "      <td>2</td>\n",
       "      <td>1</td>\n",
       "      <td>5</td>\n",
       "      <td>AbNormal</td>\n",
       "      <td>No</td>\n",
       "      <td>...</td>\n",
       "      <td>RH</td>\n",
       "      <td>4</td>\n",
       "      <td>4</td>\n",
       "      <td>2</td>\n",
       "      <td>3.765</td>\n",
       "      <td>760122</td>\n",
       "      <td>304049</td>\n",
       "      <td>21717770</td>\n",
       "      <td>22781941</td>\n",
       "      <td>11</td>\n",
       "    </tr>\n",
       "  </tbody>\n",
       "</table>\n",
       "<p>2 rows × 24 columns</p>\n",
       "</div>"
      ],
      "text/plain": [
       "   PRT_ID        AREA  INT_SQFT  DATE_SALE  DIST_MAINROAD  N_BEDROOM  \\\n",
       "0  P03210  Karapakkam      1004 2011-05-04            131          1   \n",
       "1  P09411  Anna Nagar      1986 2006-12-19             26          2   \n",
       "\n",
       "   N_BATHROOM  N_ROOM SALE_COND PARK_FACIL  ... MZZONE QS_ROOMS QS_BATHROOM  \\\n",
       "0           1       3  AbNormal        Yes  ...      A        4           3   \n",
       "1           1       5  AbNormal         No  ...     RH        4           4   \n",
       "\n",
       "  QS_BEDROOM QS_OVERALL  REG_FEE  COMMIS  SALES_PRICE  TOTAL_PRICE  \\\n",
       "0          4      4.330   380000  144400      7600000      8124400   \n",
       "1          2      3.765   760122  304049     21717770     22781941   \n",
       "\n",
       "   PROPERTY_AGE  \n",
       "0            44  \n",
       "1            11  \n",
       "\n",
       "[2 rows x 24 columns]"
      ]
     },
     "execution_count": 52,
     "metadata": {},
     "output_type": "execute_result"
    }
   ],
   "source": [
    "data.head(2)"
   ]
  },
  {
   "cell_type": "code",
   "execution_count": 53,
   "id": "a63e9b5a",
   "metadata": {},
   "outputs": [
    {
     "data": {
      "text/html": [
       "<div>\n",
       "<style scoped>\n",
       "    .dataframe tbody tr th:only-of-type {\n",
       "        vertical-align: middle;\n",
       "    }\n",
       "\n",
       "    .dataframe tbody tr th {\n",
       "        vertical-align: top;\n",
       "    }\n",
       "\n",
       "    .dataframe thead th {\n",
       "        text-align: right;\n",
       "    }\n",
       "</style>\n",
       "<table border=\"1\" class=\"dataframe\">\n",
       "  <thead>\n",
       "    <tr style=\"text-align: right;\">\n",
       "      <th></th>\n",
       "      <th>PRT_ID</th>\n",
       "      <th>AREA</th>\n",
       "      <th>INT_SQFT</th>\n",
       "      <th>DATE_SALE</th>\n",
       "      <th>DIST_MAINROAD</th>\n",
       "      <th>N_BEDROOM</th>\n",
       "      <th>N_BATHROOM</th>\n",
       "      <th>N_ROOM</th>\n",
       "      <th>SALE_COND</th>\n",
       "      <th>PARK_FACIL</th>\n",
       "      <th>...</th>\n",
       "      <th>MZZONE</th>\n",
       "      <th>QS_ROOMS</th>\n",
       "      <th>QS_BATHROOM</th>\n",
       "      <th>QS_BEDROOM</th>\n",
       "      <th>QS_OVERALL</th>\n",
       "      <th>REG_FEE</th>\n",
       "      <th>COMMIS</th>\n",
       "      <th>SALES_PRICE</th>\n",
       "      <th>TOTAL_PRICE</th>\n",
       "      <th>PROPERTY_AGE</th>\n",
       "    </tr>\n",
       "  </thead>\n",
       "  <tbody>\n",
       "    <tr>\n",
       "      <th>0</th>\n",
       "      <td>P03210</td>\n",
       "      <td>Karapakkam</td>\n",
       "      <td>1004</td>\n",
       "      <td>2011-05-04</td>\n",
       "      <td>131</td>\n",
       "      <td>1</td>\n",
       "      <td>1</td>\n",
       "      <td>3</td>\n",
       "      <td>AbNormal</td>\n",
       "      <td>Yes</td>\n",
       "      <td>...</td>\n",
       "      <td>A</td>\n",
       "      <td>4</td>\n",
       "      <td>3</td>\n",
       "      <td>4</td>\n",
       "      <td>4.330</td>\n",
       "      <td>380000</td>\n",
       "      <td>144400</td>\n",
       "      <td>7600000</td>\n",
       "      <td>8124400</td>\n",
       "      <td>44</td>\n",
       "    </tr>\n",
       "    <tr>\n",
       "      <th>1</th>\n",
       "      <td>P09411</td>\n",
       "      <td>Anna Nagar</td>\n",
       "      <td>1986</td>\n",
       "      <td>2006-12-19</td>\n",
       "      <td>26</td>\n",
       "      <td>2</td>\n",
       "      <td>1</td>\n",
       "      <td>5</td>\n",
       "      <td>AbNormal</td>\n",
       "      <td>No</td>\n",
       "      <td>...</td>\n",
       "      <td>RH</td>\n",
       "      <td>4</td>\n",
       "      <td>4</td>\n",
       "      <td>2</td>\n",
       "      <td>3.765</td>\n",
       "      <td>760122</td>\n",
       "      <td>304049</td>\n",
       "      <td>21717770</td>\n",
       "      <td>22781941</td>\n",
       "      <td>11</td>\n",
       "    </tr>\n",
       "    <tr>\n",
       "      <th>2</th>\n",
       "      <td>P01812</td>\n",
       "      <td>Adyar</td>\n",
       "      <td>909</td>\n",
       "      <td>2012-02-04</td>\n",
       "      <td>70</td>\n",
       "      <td>1</td>\n",
       "      <td>1</td>\n",
       "      <td>3</td>\n",
       "      <td>AbNormal</td>\n",
       "      <td>Yes</td>\n",
       "      <td>...</td>\n",
       "      <td>RL</td>\n",
       "      <td>4</td>\n",
       "      <td>3</td>\n",
       "      <td>2</td>\n",
       "      <td>3.090</td>\n",
       "      <td>421094</td>\n",
       "      <td>92114</td>\n",
       "      <td>13159200</td>\n",
       "      <td>13672408</td>\n",
       "      <td>20</td>\n",
       "    </tr>\n",
       "    <tr>\n",
       "      <th>3</th>\n",
       "      <td>P05346</td>\n",
       "      <td>Velachery</td>\n",
       "      <td>1855</td>\n",
       "      <td>2010-03-13</td>\n",
       "      <td>14</td>\n",
       "      <td>3</td>\n",
       "      <td>2</td>\n",
       "      <td>5</td>\n",
       "      <td>Family</td>\n",
       "      <td>No</td>\n",
       "      <td>...</td>\n",
       "      <td>I</td>\n",
       "      <td>4</td>\n",
       "      <td>3</td>\n",
       "      <td>3</td>\n",
       "      <td>4.010</td>\n",
       "      <td>356321</td>\n",
       "      <td>77042</td>\n",
       "      <td>9630290</td>\n",
       "      <td>10063653</td>\n",
       "      <td>22</td>\n",
       "    </tr>\n",
       "    <tr>\n",
       "      <th>4</th>\n",
       "      <td>P06210</td>\n",
       "      <td>Karapakkam</td>\n",
       "      <td>1226</td>\n",
       "      <td>2009-10-05</td>\n",
       "      <td>84</td>\n",
       "      <td>1</td>\n",
       "      <td>1</td>\n",
       "      <td>3</td>\n",
       "      <td>AbNormal</td>\n",
       "      <td>Yes</td>\n",
       "      <td>...</td>\n",
       "      <td>C</td>\n",
       "      <td>3</td>\n",
       "      <td>2</td>\n",
       "      <td>4</td>\n",
       "      <td>3.290</td>\n",
       "      <td>237000</td>\n",
       "      <td>74063</td>\n",
       "      <td>7406250</td>\n",
       "      <td>7717313</td>\n",
       "      <td>30</td>\n",
       "    </tr>\n",
       "  </tbody>\n",
       "</table>\n",
       "<p>5 rows × 24 columns</p>\n",
       "</div>"
      ],
      "text/plain": [
       "   PRT_ID        AREA  INT_SQFT  DATE_SALE  DIST_MAINROAD  N_BEDROOM  \\\n",
       "0  P03210  Karapakkam      1004 2011-05-04            131          1   \n",
       "1  P09411  Anna Nagar      1986 2006-12-19             26          2   \n",
       "2  P01812       Adyar       909 2012-02-04             70          1   \n",
       "3  P05346   Velachery      1855 2010-03-13             14          3   \n",
       "4  P06210  Karapakkam      1226 2009-10-05             84          1   \n",
       "\n",
       "   N_BATHROOM  N_ROOM SALE_COND PARK_FACIL  ... MZZONE QS_ROOMS QS_BATHROOM  \\\n",
       "0           1       3  AbNormal        Yes  ...      A        4           3   \n",
       "1           1       5  AbNormal         No  ...     RH        4           4   \n",
       "2           1       3  AbNormal        Yes  ...     RL        4           3   \n",
       "3           2       5    Family         No  ...      I        4           3   \n",
       "4           1       3  AbNormal        Yes  ...      C        3           2   \n",
       "\n",
       "  QS_BEDROOM QS_OVERALL  REG_FEE  COMMIS  SALES_PRICE  TOTAL_PRICE  \\\n",
       "0          4      4.330   380000  144400      7600000      8124400   \n",
       "1          2      3.765   760122  304049     21717770     22781941   \n",
       "2          2      3.090   421094   92114     13159200     13672408   \n",
       "3          3      4.010   356321   77042      9630290     10063653   \n",
       "4          4      3.290   237000   74063      7406250      7717313   \n",
       "\n",
       "   PROPERTY_AGE  \n",
       "0            44  \n",
       "1            11  \n",
       "2            20  \n",
       "3            22  \n",
       "4            30  \n",
       "\n",
       "[5 rows x 24 columns]"
      ]
     },
     "execution_count": 53,
     "metadata": {},
     "output_type": "execute_result"
    }
   ],
   "source": [
    "data.head()"
   ]
  },
  {
   "cell_type": "markdown",
   "id": "0c7c8a31",
   "metadata": {},
   "source": [
    "# Exploratory Data Analysis"
   ]
  },
  {
   "cell_type": "code",
   "execution_count": 54,
   "id": "7f9f2baa",
   "metadata": {},
   "outputs": [
    {
     "data": {
      "image/png": "[encoded data removed]",
      "text/plain": [
       "<Figure size 864x720 with 2 Axes>"
      ]
     },
     "metadata": {
      "needs_background": "light"
     },
     "output_type": "display_data"
    }
   ],
   "source": [
    "plt.figure(figsize=(12,10))\n",
    "sns.heatmap(data.corr(), annot=True,linewidth=0.4,cmap='coolwarm');"
   ]
  },
  {
   "cell_type": "markdown",
   "id": "90025a4a",
   "metadata": {},
   "source": [
    "Sales Price is the traret features.\n",
    "There are some Correlation between features and target variables"
   ]
  },
  {
   "cell_type": "markdown",
   "id": "4ec0e5d1",
   "metadata": {},
   "source": [
    "# Distributions of all the features"
   ]
  },
  {
   "cell_type": "code",
   "execution_count": null,
   "id": "b77a6604",
   "metadata": {},
   "outputs": [],
   "source": [
    "plt.figure(figsize=(30, 18), dpi=200)\n",
    "\n",
    "plt.subplot(5,4,1)\n",
    "sns.histplot(data.AREA, linewidth=0,kde=True)\n",
    "\n",
    "plt.subplot(5,4,2)\n",
    "sns.histplot(data.INT_SQFT, linewidth=0,kde=True)\n",
    "\n",
    "plt.subplot(5,4,3)\n",
    "sns.histplot(data.DATE_SALE, linewidth=0,kde=True)\n",
    "\n",
    "plt.subplot(5,4,4)\n",
    "sns.histplot(data.DIST_MAINROAD, linewidth=0,kde=True)\n",
    "\n",
    "plt.subplot(5,4,5)\n",
    "sns.histplot(data.N_BEDROOM, linewidth=0,kde=True)\n",
    "\n",
    "plt.subplot(5,4,6)\n",
    "sns.histplot(data.N_BATHROOM, linewidth=0,kde=True)\n",
    "\n",
    "plt.subplot(5,4,7)\n",
    "sns.histplot(data.N_ROOM, linewidth=0,kde=True)\n",
    "\n",
    "plt.subplot(5,4,7)\n",
    "sns.histplot(data.SALE_COND, linewidth=0,kde=True)\n",
    "\n",
    "plt.subplot(5,4,7)\n",
    "sns.histplot(data.PARK_FACIL, linewidth=0,kde=True)\n",
    "\n",
    "plt.subplot(5,4,8)\n",
    "sns.histplot(data.UTILITY_AVAIL, linewidth=0,kde=True)\n",
    "\n",
    "plt.subplot(5,4,9)\n",
    "sns.histplot(data.STREET, linewidth=0,kde=True)\n",
    "\n",
    "plt.subplot(5,4,10)\n",
    "sns.histplot(data.MZZONE, linewidth=0,kde=True)\n",
    "\n",
    "plt.subplot(5,4,11)\n",
    "sns.histplot(data.QS_ROOMS, linewidth=0,kde=True)\n",
    "\n",
    "plt.subplot(5,4,12)\n",
    "sns.histplot(data.QS_BATHROOM, linewidth=0,kde=True)\n",
    "\n",
    "plt.subplot(5,4,13)\n",
    "sns.histplot(data.QS_BEDROOM, linewidth=0,kde=True)\n",
    "\n",
    "plt.subplot(5,4,14)\n",
    "sns.histplot(data.SALES_PRICE, linewidth=0,kde=True)\n",
    "\n",
    "plt.subplot(5,4,15)\n",
    "sns.histplot(data.TOTAL_PRICE, linewidth=0,kde=True)\n",
    "\n",
    "plt.subplot(5,4,16)\n",
    "sns.histplot(data.PROPERTY_AGE, linewidth=0,kde=True)\n",
    "\n",
    "plt.suptitle(\"column wise Distribution of Data\", fontsize=20)\n",
    "plt.show()"
   ]
  },
  {
   "cell_type": "markdown",
   "id": "13b63d81",
   "metadata": {},
   "source": [
    "# Plotting Feature Columns vs Target Columns"
   ]
  },
  {
   "cell_type": "markdown",
   "id": "3651f647",
   "metadata": {},
   "source": [
    "We are going to plot two types of Columns.\n",
    "1) Numerical Columns\n",
    "\n",
    "2) Categorical Columns"
   ]
  },
  {
   "cell_type": "markdown",
   "id": "304252f0",
   "metadata": {},
   "source": [
    "# Numerical data vs Target"
   ]
  },
  {
   "cell_type": "code",
   "execution_count": null,
   "id": "0dec567e",
   "metadata": {},
   "outputs": [],
   "source": [
    "data.head(2)"
   ]
  },
  {
   "cell_type": "code",
   "execution_count": null,
   "id": "4a23c0a0",
   "metadata": {},
   "outputs": [],
   "source": [
    "plt.figure(figsize=(15,7),dpi=150)\n",
    "plt.subplot(2,2,1)\n",
    "sns.regplot(data.INT_SQFT,data.TOTAL_PRICE, scatter_kws={\"color\":\"black\"},line_kws={\"color\":\"red\"})\n",
    "plt.subplot(2,2,2)\n",
    "sns.regplot(data.DIST_MAINROAD,data.TOTAL_PRICE,scatter_kws={\"color\":\"Blue\"},line_kws={\"color\":\"red\"})\n",
    "\n",
    "plt.suptitle(\"Continous numerical variable VS TOTAL_PRICE\", fontsize=18)\n",
    "plt.show()\n"
   ]
  },
  {
   "cell_type": "markdown",
   "id": "32fe515c",
   "metadata": {},
   "source": [
    "In int sqft column we find good relation between the data."
   ]
  },
  {
   "cell_type": "code",
   "execution_count": null,
   "id": "681983ee",
   "metadata": {},
   "outputs": [],
   "source": [
    "plt.figure(figsize=(10,5), dpi=150)\n",
    "plt.subplot2grid((2,6),(0,0))\n",
    "sns.regplot(data.N_BEDROOM, data.TOTAL_PRICE,scatter_kws={\"color\":\"blue\"},line_kws={\"color\":\"red\"})\n",
    "\n",
    "plt.subplot2grid((2,6),(0,1))\n",
    "sns.regplot(data.N_BATHROOM, data.TOTAL_PRICE,scatter_kws={\"color\":\"brown\"},line_kws={\"color\":\"red\"})\n",
    "\n",
    "plt.subplot2grid((2,6),(0,2))\n",
    "sns.regplot(data.N_ROOM, data.TOTAL_PRICE,scatter_kws={\"color\":\"green\"},line_kws={\"color\":\"red\"})\n",
    "\n",
    "plt.subplot2grid((2,6),(0,3))\n",
    "sns.regplot(data.QS_ROOMS, data.TOTAL_PRICE,scatter_kws={\"color\":\"orange\"},line_kws={\"color\":\"red\"})\n",
    "\n",
    "plt.subplot2grid((2,6),(1,1))\n",
    "sns.regplot(data.QS_BATHROOM, data.TOTAL_PRICE,scatter_kws={\"color\":\"purple\"},line_kws={\"color\":\"red\"})\n",
    "\n",
    "plt.subplot2grid((2,6),(1,2))\n",
    "sns.regplot(data.QS_BEDROOM, data.TOTAL_PRICE,scatter_kws={\"color\":\"purple\"},line_kws={\"color\":\"red\"})\n",
    "\n",
    "plt.suptitle(\"Discrete variable vs TOTAL PRICE CHART\",fontsize=18)\n",
    "plt.show()\n"
   ]
  },
  {
   "cell_type": "markdown",
   "id": "769da28e",
   "metadata": {},
   "source": [
    "FRom this graph\n",
    "In N_BEDROOM,N_BATHROOM and N_ROOM we find some good relations,so we will keep it.\n",
    "\n",
    "\n",
    "IN QS_ROOM,QS_BATHROOM and QS_BEDROOM we didnt find any relations we going to drop it."
   ]
  },
  {
   "cell_type": "code",
   "execution_count": null,
   "id": "d826aa88",
   "metadata": {},
   "outputs": [],
   "source": [
    "data.head(2)"
   ]
  },
  {
   "cell_type": "code",
   "execution_count": null,
   "id": "2ff51b52",
   "metadata": {},
   "outputs": [],
   "source": [
    "data['BUILDTYPE']"
   ]
  },
  {
   "cell_type": "markdown",
   "id": "7c1590ff",
   "metadata": {},
   "source": [
    "# Categorical data Vs Target"
   ]
  },
  {
   "cell_type": "code",
   "execution_count": null,
   "id": "b625b2de",
   "metadata": {},
   "outputs": [],
   "source": [
    "plt.figure(figsize=(20, 10))\n",
    "plt.subplot2grid((2,6),(0,0),colspan=2)\n",
    "sns.barplot(x=data.AREA,y=data.TOTAL_PRICE,order=data.groupby('AREA')['SALES_PRICE'].mean().reset_index().sort_values('SALES_PRICE')['AREA'])\n",
    "\n",
    "plt.subplot2grid((2,6),(0,2),colspan=2)\n",
    "sns.barplot(x=data.SALE_COND,y=data.TOTAL_PRICE,order=data.groupby('SALE_COND')['TOTAL_PRICE'].mean().reset_index().sort_values('TOTAL_PRICE')['SALE_COND'])\n",
    "\n",
    "plt.subplot2grid((2,6),(0,4),colspan=2)\n",
    "sns.barplot(x=data.MZZONE,y=data.TOTAL_PRICE,order=data.groupby('MZZONE')['TOTAL_PRICE'].mean().reset_index().sort_values('TOTAL_PRICE')['MZZONE'])\n",
    "\n",
    "plt.subplot2grid((2,6),(1,0),colspan=2)\n",
    "sns.barplot(x=data.UTILITY_AVAIL,y=data.TOTAL_PRICE,order=data.groupby('UTILITY_AVAIL')['TOTAL_PRICE'].mean().reset_index().sort_values('TOTAL_PRICE')['UTILITY_AVAIL'])\n",
    "\n",
    "plt.subplot2grid((2,6),(1,2),colspan=2)\n",
    "sns.barplot(x=data.STREET,y=data.TOTAL_PRICE,order=data.groupby('STREET')['TOTAL_PRICE'].mean().reset_index().sort_values('TOTAL_PRICE')['STREET'])\n",
    "\n",
    "plt.subplot2grid((2,6),(1,4),colspan=2)\n",
    "sns.barplot(x=data.PARK_FACIL,y=data.TOTAL_PRICE,order=data.groupby('PARK_FACIL')['TOTAL_PRICE'].mean().reset_index().sort_values('TOTAL_PRICE')['PARK_FACIL'])\n",
    "\n",
    "plt.show()"
   ]
  },
  {
   "cell_type": "markdown",
   "id": "8a5632e7",
   "metadata": {},
   "source": [
    "Conclusions:\n",
    "In all the above columns, we sort the columns in respect of total price and we are finding a good linear ordinal relations.\n",
    "So we will perform encoding techniques. \n"
   ]
  },
  {
   "cell_type": "markdown",
   "id": "2e87f9b9",
   "metadata": {},
   "source": [
    "# ENCODING"
   ]
  },
  {
   "cell_type": "code",
   "execution_count": null,
   "id": "b4312a71",
   "metadata": {},
   "outputs": [],
   "source": [
    "print(data['STREET'].unique())"
   ]
  },
  {
   "cell_type": "markdown",
   "id": "15f71b0b",
   "metadata": {},
   "source": [
    "# We are going to apply label encoder\n",
    "#We are going to map the value to the columns"
   ]
  },
  {
   "cell_type": "code",
   "execution_count": null,
   "id": "fc7e38c7",
   "metadata": {},
   "outputs": [],
   "source": [
    "#Encoding the area column orderly#\n",
    "data.AREA=data.AREA.map({'Karapakkam':1,'Anna Nagar':2,'Adyar':3,'Velachery':4,'Chrompet':5,'KK Nagar':6,'T Nagar':7})\n",
    "#Encoding SALE_COND column\n",
    "data.SALE_COND=data.SALE_COND.map({'AbNormal':1,'Family':2,'Partial':3,'AdjLand':4,'Normal Sale':5})\n",
    "#Encoding MZZONE column\n",
    "data.MZZONE=data.MZZONE.map({'A':1,'RH':2,'RL':3,'I':4,'C':5,'RM':6})\n",
    "#Encoding UTILITY_AVAIL column\n",
    "data.UTILITY_AVAIL=data.UTILITY_AVAIL.map({'AllPub':1,'ELO':2,'NoSeWa':3})\n",
    "#Encoding STREET column\n",
    "data.STREET=data.STREET.map({'Paved':1,'Gravel':2,'No Access':3})\n",
    "#Encoding PARK_FACIL column\n",
    "data.PARK_FACIL=data.PARK_FACIL.map({'Yes':1,'No':2})\n",
    "\n"
   ]
  },
  {
   "cell_type": "code",
   "execution_count": null,
   "id": "e2e46e55",
   "metadata": {},
   "outputs": [],
   "source": [
    "#Encoding BUILDTYPE column\n",
    "data.BUILDTYPE=data.BUILDTYPE.map({'Commercial':1,'Others':2,'House':3})"
   ]
  },
  {
   "cell_type": "code",
   "execution_count": null,
   "id": "f7a87049",
   "metadata": {},
   "outputs": [],
   "source": [
    "print(data['BUILDTYPE'].unique())"
   ]
  },
  {
   "cell_type": "code",
   "execution_count": null,
   "id": "51ebe942",
   "metadata": {},
   "outputs": [],
   "source": [
    "data.AREA=data.AREA.map({'Karapakkam':1,'Anna Nagar':2,'Adyar':3,'Velachery':4,'Chrompet':5,'KK Nagar':6,'T Nagar':7})\n"
   ]
  },
  {
   "cell_type": "code",
   "execution_count": null,
   "id": "1c875b5b",
   "metadata": {},
   "outputs": [],
   "source": [
    "print(data['SALE_COND'].unique())\n",
    "print(data['MZZONE'].unique())\n",
    "print(data['UTILITY_AVAIL'].unique())\n",
    "print(data['STREET'].unique())\n",
    "print(data['PARK_FACIL'].unique())\n"
   ]
  },
  {
   "cell_type": "code",
   "execution_count": null,
   "id": "5cc59838",
   "metadata": {},
   "outputs": [],
   "source": [
    "data=data.reindex(columns=['AREA','INT_SQFT','SALE_COND','PARK_FACIL','BUILDTYPE','UTILITY_AVAIL','STREET','N_BEDROOM','N_BATHROOM','PARK_FACIL','N_ROOM','QS_ROOMS','QS_BATHROOM','QS_BEDROOM','PARK_FACIL'\n",
    "                           \n",
    "                           ,'MZZONE','QS_OVERALL','REG_FEE','SALES_PRICE','PROPERTY_AGE','TOTAL_PRICE'])"
   ]
  },
  {
   "cell_type": "code",
   "execution_count": null,
   "id": "2dff0b83",
   "metadata": {},
   "outputs": [],
   "source": [
    "data.head()"
   ]
  },
  {
   "cell_type": "code",
   "execution_count": null,
   "id": "2305f9ae",
   "metadata": {},
   "outputs": [],
   "source": [
    "plt.figure(figsize=(18,10), dpi=150)\n",
    "sns.heatmap(data.corr(method='pearson'), annot=True, linewidth=0.2, cmap='coolwarm');"
   ]
  },
  {
   "cell_type": "code",
   "execution_count": null,
   "id": "124f2e98",
   "metadata": {},
   "outputs": [],
   "source": [
    "data.head()"
   ]
  },
  {
   "cell_type": "markdown",
   "id": "338318d1",
   "metadata": {},
   "source": [
    "# Removing unwanted columns"
   ]
  },
  {
   "cell_type": "code",
   "execution_count": null,
   "id": "ed2a7fb0",
   "metadata": {},
   "outputs": [],
   "source": [
    "df=data.copy()\n",
    "df.drop(['REG_FEE','QS_OVERALL','QS_ROOMS','QS_BATHROOM','QS_BEDROOM'],axis=1,inplace=True)"
   ]
  },
  {
   "cell_type": "code",
   "execution_count": null,
   "id": "49ee4073",
   "metadata": {},
   "outputs": [],
   "source": [
    "df"
   ]
  },
  {
   "cell_type": "markdown",
   "id": "cfbd4bdb",
   "metadata": {},
   "source": [
    "# Splitting data to features and target"
   ]
  },
  {
   "cell_type": "code",
   "execution_count": null,
   "id": "8a6c6ad5",
   "metadata": {},
   "outputs": [],
   "source": [
    "train=['AREA','INT_SQFT','SALE_COND','PARK_FACIL','BUILDTYPE','UTILITY_AVAIL','STREET','N_BEDROOM','N_BATHROOM','PARK_FACIL','N_ROOM','PARK_FACIL','MZZONE','PROPERTY_AGE']\n",
    "Target1=['SALES_PRICE']\n",
    "Target2=['TOTAL_PRICE']\n",
    "input = df[train].copy()\n",
    "target1 = df[Target1].copy()\n",
    "target2 = df[Target2].copy()"
   ]
  },
  {
   "cell_type": "code",
   "execution_count": null,
   "id": "e8d8e164",
   "metadata": {},
   "outputs": [],
   "source": [
    "target2.head()"
   ]
  },
  {
   "cell_type": "markdown",
   "id": "8dec3b51",
   "metadata": {},
   "source": [
    "# Splitting data for training and Testing "
   ]
  },
  {
   "cell_type": "code",
   "execution_count": null,
   "id": "18c4b672",
   "metadata": {},
   "outputs": [],
   "source": [
    "X_train, X_test, y_train, y_test = train_test_split(input, target1, test_size=0.2, random_state = 7)"
   ]
  },
  {
   "cell_type": "code",
   "execution_count": null,
   "id": "40fb245b",
   "metadata": {},
   "outputs": [],
   "source": [
    "X_train"
   ]
  },
  {
   "cell_type": "code",
   "execution_count": null,
   "id": "62553d80",
   "metadata": {},
   "outputs": [],
   "source": [
    "pd.DataFrame(X_train, columns=X_train.columns).plot.box(figsize=(20,5),rot=90)\n",
    "plt.show()"
   ]
  },
  {
   "cell_type": "code",
   "execution_count": null,
   "id": "fac0c453",
   "metadata": {},
   "outputs": [],
   "source": [
    "mm=MinMaxScaler().fit(X_train)\n",
    "X_train_mm = mm.transform(X_train)\n",
    "X_train_mm = pd.DataFrame(X_train_mm, columns=X_train.columns)\n",
    "X_test_mm = mm.transform(X_test)\n",
    "X_test_mm = pd.DataFrame(X_test_mm, columns=X_test.columns)\n",
    "X_train_mm.plot.box(figsize=(20,5), rot=90)\n",
    "plt.show()"
   ]
  },
  {
   "cell_type": "code",
   "execution_count": null,
   "id": "7f483bb9",
   "metadata": {},
   "outputs": [],
   "source": [
    "ss = StandardScaler().fit(X_train)\n",
    "X_train_ss = ss.transform(X_train)\n",
    "X_train_ss = pd.DataFrame(X_train_ss, columns=X_train.columns)\n",
    "X_test_ss = ss.transform(X_test)\n",
    "X_test_ss = pd.DataFrame(X_test_ss, columns=X_test.columns)\n",
    "X_train_ss.plot.box(figsize=(20,5), rot=90)\n",
    "plt.show()"
   ]
  },
  {
   "cell_type": "markdown",
   "id": "7600ce14",
   "metadata": {},
   "source": [
    "# Model Training LINEAR REGRESSION"
   ]
  },
  {
   "cell_type": "code",
   "execution_count": null,
   "id": "2edda46c",
   "metadata": {},
   "outputs": [],
   "source": [
    "lr=LinearRegression()\n",
    "lr.fit(X_train,y_train)\n",
    "y_pred = lr.predict(X_test\n",
    "                    \n",
    "print('R2- SCORE:', metrics.r2_score(y_test,y_pred))\n",
    "lr.fit(X_train_mm,y_train)\n",
    "y_predlrmm=lr.predict(X_test_mm)\n",
    "print('R2- SCORE(Minmaxscaled):', metrics.r2_score(y_test,y_predlrmm))\n",
    "lr.fit(X_train_ss, y_train)\n",
    "y_predlrss = lr.predict(X_test_ss)\n",
    "print('R2- SCORE(Standardscaler):', metrics.r2_score(y_test,y_predlrss))"
   ]
  },
  {
   "cell_type": "markdown",
   "id": "7d909d82",
   "metadata": {},
   "source": [
    "# DECISION TREE"
   ]
  },
  {
   "cell_type": "code",
   "execution_count": null,
   "id": "41dd0772",
   "metadata": {},
   "outputs": [],
   "source": [
    "dt = DecisionTreeRegressor()\n",
    "dt.fit(X_train, y_train)\n",
    "y_pred_dt = dt.predict(X_test)\n",
    "print('R2- SCORE:', metrics.r2_score(y_test,y_pred_dt))\n",
    "dt.fit(X_train_mm, y_train)\n",
    "y_pred_dtmm = dt.predict(X_test_mm)\n",
    "print('R2- SCORE(Minmaxscaled):', metrics.r2_score(y_test,y_pred_dtmm))\n",
    "\n",
    "dt.fit(X_train_ss, y_train)\n",
    "y_pred_dtss = dt.predict(X_test_ss)\n",
    "print('R2- SCORE(Standardscaler):', metrics.r2_score(y_test,y_pred_dtss))"
   ]
  },
  {
   "cell_type": "markdown",
   "id": "a42836de",
   "metadata": {},
   "source": [
    "Here we concluded that we applllied Two algorithm linear regression and Decision Tree \n",
    "and we find good R2 score in Decision Tree."
   ]
  },
  {
   "cell_type": "code",
   "execution_count": null,
   "id": "48c521bb",
   "metadata": {},
   "outputs": [],
   "source": []
  },
  {
   "cell_type": "code",
   "execution_count": null,
   "id": "c94b9326",
   "metadata": {},
   "outputs": [],
   "source": []
  }
 ],
 "metadata": {
  "kernelspec": {
   "display_name": "Python 3 (ipykernel)",
   "language": "python",
   "name": "python3"
  },
  "language_info": {
   "codemirror_mode": {
    "name": "ipython",
    "version": 3
   },
   "file_extension": ".py",
   "mimetype": "text/x-python",
   "name": "python",
   "nbconvert_exporter": "python",
   "pygments_lexer": "ipython3",
   "version": "3.9.7"
  }
 },
 "nbformat": 4,
 "nbformat_minor": 5
}
